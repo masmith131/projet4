{
 "cells": [
  {
   "cell_type": "code",
   "execution_count": 1,
   "metadata": {},
   "outputs": [],
   "source": [
    "def conv(param, filter, p_filter, kernel, p_size) : \n",
    "\n",
    "    p = ( (kernel*kernel*p_filter) + 1 ) * filter\n",
    "    param.append(p)\n",
    "\n",
    "    size = p_size - (kernel - 1)\n",
    "    print(\"size conv : \", size, size, filter)\n",
    "\n",
    "    return size "
   ]
  },
  {
   "cell_type": "code",
   "execution_count": 2,
   "metadata": {},
   "outputs": [],
   "source": [
    "def pool(pool, size, filter) : \n",
    "\n",
    "    size = int(np.floor(size / pool))\n",
    "    print(\"size pool : \", size, size, filter)\n",
    "\n",
    "    return size"
   ]
  },
  {
   "cell_type": "code",
   "execution_count": 3,
   "metadata": {},
   "outputs": [],
   "source": [
    "def flatt(size, filter) : \n",
    "\n",
    "    size = size*size*filter\n",
    "    print(\"size flatten : \", size)\n",
    "\n",
    "    return size"
   ]
  },
  {
   "cell_type": "code",
   "execution_count": 4,
   "metadata": {},
   "outputs": [],
   "source": [
    "def dense (param, dense, size) : \n",
    "\n",
    "    p = (dense*size) + dense \n",
    "    param.append(p)\n",
    "\n",
    "    size = dense \n",
    "    print(\"size dense : \", dense)\n",
    "\n",
    "    return size \n"
   ]
  },
  {
   "cell_type": "code",
   "execution_count": 5,
   "metadata": {},
   "outputs": [
    {
     "name": "stdout",
     "output_type": "stream",
     "text": [
      "size conv :  46 46 36\n",
      "size conv :  42 42 36\n",
      "size pool :  14 14 36\n",
      "size conv :  13 13 64\n",
      "size conv :  12 12 64\n",
      "size pool :  4 4 64\n",
      "size conv :  3 3 128\n",
      "size conv :  2 2 128\n",
      "size pool :  1 1 128\n",
      "size flatten :  128\n",
      "size dense :  200\n",
      "size dense :  62\n",
      "[2736, 32436, 9280, 16448, 32896, 65664, 25800, 12462]\n",
      "Total of param :  197722\n"
     ]
    }
   ],
   "source": [
    "import numpy as np \n",
    "\n",
    "resol = 50 \n",
    "\n",
    "param = [] \n",
    "\n",
    "filter_1 = 36\n",
    "kernel_1 = 5\n",
    "\n",
    "filter_1 = 36\n",
    "kernel_1_2 = 5\n",
    "\n",
    "pool_1 = 3\n",
    "\n",
    "filter_2 = 64\n",
    "kernel_2 = 2\n",
    "\n",
    "filter_2 = 64\n",
    "kernel_2_1 = 2\n",
    "\n",
    "pool_2 = 3\n",
    "\n",
    "filter_3 = 128\n",
    "kernel_3 = 2\n",
    "\n",
    "filter_3 = 128\n",
    "kernel_3_1 = 2\n",
    "\n",
    "pool_3 = 2\n",
    "\n",
    "size = conv(param=param, filter=filter_1, p_filter=3, kernel=kernel_1, p_size=resol)\n",
    "size = conv(param=param, filter=filter_1, p_filter=filter_1, kernel=kernel_1_2, p_size=size)\n",
    "size = pool(pool= pool_1, size=size, filter=filter_1)\n",
    "\n",
    "size = conv(param=param, filter=filter_2, p_filter=filter_1, kernel=kernel_2, p_size=size)\n",
    "size = conv(param=param, filter=filter_2, p_filter=filter_2, kernel=kernel_2_1, p_size=size)\n",
    "size = pool(pool=pool_2, size=size, filter=filter_2)\n",
    "\n",
    "size = conv(param=param, filter=filter_3, p_filter=filter_2, kernel=kernel_3, p_size=size)\n",
    "size = conv(param=param, filter=filter_3, p_filter=filter_3, kernel=kernel_3_1, p_size=size)\n",
    "size = pool(pool=pool_3, size=size, filter=filter_3)\n",
    "\n",
    "size = flatt(size=size, filter=filter_3)\n",
    "size = dense(param=param, dense=200, size=size)\n",
    "size = dense(param=param, dense=62, size=size)\n",
    "\n",
    "print(param)\n",
    "print(\"Total of param : \", np.sum(param))\n"
   ]
  }
 ],
 "metadata": {
  "kernelspec": {
   "display_name": "base",
   "language": "python",
   "name": "python3"
  },
  "language_info": {
   "codemirror_mode": {
    "name": "ipython",
    "version": 3
   },
   "file_extension": ".py",
   "mimetype": "text/x-python",
   "name": "python",
   "nbconvert_exporter": "python",
   "pygments_lexer": "ipython3",
   "version": "3.9.13"
  },
  "orig_nbformat": 4
 },
 "nbformat": 4,
 "nbformat_minor": 2
}
