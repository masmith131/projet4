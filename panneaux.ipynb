{
 "cells": [
  {
   "attachments": {},
   "cell_type": "markdown",
   "metadata": {},
   "source": [
    "<font size=6  color= 'blue' > <b>[LEPL1507] - PROJET P4</b> <br>\n",
    "<br><br>\n",
    "Airson Alexis<br>\n",
    "Beniffou Ibrahim <br>\n",
    "Henneaux Lucas <br>\n",
    "Lemaire Antoine <br>\n",
    "Smith Marielle <br>\n",
    "Canon Théo<br>\n",
    "<div style=\"text-align: right\"> </div>\n",
    "\n",
    "<br><br>\n",
    "</font>\n"
   ]
  },
  {
   "cell_type": "code",
   "execution_count": 137,
   "metadata": {},
   "outputs": [],
   "source": [
    "import numpy as np\n",
    "from keras.preprocessing.image import ImageDataGenerator\n",
    "import matplotlib.pyplot as plt\n",
    "from keras.utils import to_categorical \n",
    "from keras.models import Sequential \n",
    "from keras.layers import Conv2D, MaxPool2D, Dense, Flatten, Dropout\n",
    "from tensorflow.keras.callbacks import EarlyStopping\n",
    "from sklearn.metrics import accuracy_score\n",
    "import os\n",
    "import tensorflow as tf\n",
    "#import tensorflow_datasets as tfds\n",
    "\n",
    "from tensorflow.keras import layers\n",
    "import random\n",
    "from sklearn.metrics import classification_report"
   ]
  },
  {
   "cell_type": "code",
   "execution_count": 138,
   "metadata": {},
   "outputs": [
    {
     "name": "stdout",
     "output_type": "stream",
     "text": [
      "4575\n",
      "Found 4575 images belonging to 62 classes.\n",
      "2520\n",
      "Found 2520 images belonging to 62 classes.\n"
     ]
    }
   ],
   "source": [
    "#preprocessing of ppm dataset \n",
    "path_training = 'BelgiumTSC_Training\\Training'\n",
    "path_testing = 'BelgiumTSC_Testing\\Testing'\n",
    "nbr_class = 62\n",
    "\n",
    "DIR = path_training\n",
    "counter = 0\n",
    "for root, dirs, files in os.walk(DIR):\n",
    "    for file in files:    \n",
    "        if file.endswith('.ppm') or file.endswith('.jpeg'):\n",
    "            counter += 1\n",
    "\n",
    "print(counter)\n",
    "\n",
    "batch_size_train = counter\n",
    "\n",
    "train_datagen = ImageDataGenerator( rescale =1./255, zoom_range = 0.2, horizontal_flip = True)\n",
    "training_set = train_datagen.flow_from_directory(path_training,target_size = (30, 30),\n",
    "batch_size = batch_size_train,class_mode = 'binary', color_mode='rgb')\n",
    "\n",
    "DIR = path_testing\n",
    "counter = 0\n",
    "for root, dirs, files in os.walk(DIR):\n",
    "    for file in files:    \n",
    "        if file.endswith('.ppm') or file.endswith('.jpeg'):\n",
    "            counter += 1\n",
    "\n",
    "print(counter)\n",
    "\n",
    "batch_size_test = counter\n",
    "\n",
    "test_datagen = ImageDataGenerator(rescale = 1./255)\n",
    "test_set = test_datagen.flow_from_directory(path_testing,\n",
    "target_size = (30, 30),batch_size = batch_size_test, class_mode = 'binary')\n"
   ]
  },
  {
   "attachments": {},
   "cell_type": "markdown",
   "metadata": {},
   "source": [
    "training_set = ensemble de 143 tuples\n",
    "Chaque tuple représente 32 images (sauf le dernier, 31 images)\n",
    "\n",
    "tuple[0] = features = tableau (32, 30, 30, 3)\n",
    "tuple[1] = label = tableau (32)\n",
    "\n",
    "plt.imshow(training_set[i][0][j]) affiche l'image n°j du paquet d'image n°i "
   ]
  },
  {
   "cell_type": "code",
   "execution_count": 139,
   "metadata": {},
   "outputs": [
    {
     "name": "stdout",
     "output_type": "stream",
     "text": [
      "(4575, 30, 30, 3)\n",
      "(4575,)\n",
      "(2520, 30, 30, 3)\n",
      "(2520,)\n"
     ]
    }
   ],
   "source": [
    "'''\n",
    "On met toutes les données du Training Set dans un numpy array\n",
    "'''\n",
    "\n",
    "X_train , y_train = training_set.next()\n",
    "X_test , y_test = test_set.next()\n",
    "\n",
    "print(X_train.shape)\n",
    "print(y_train.shape)\n",
    "print(X_test.shape)\n",
    "print(y_test.shape)\n",
    "\n",
    "#data augmentation\n",
    "aug = ImageDataGenerator(\n",
    "\trotation_range=10,\n",
    "\tzoom_range=0.15,\n",
    "\twidth_shift_range=0.1,\n",
    "\theight_shift_range=0.1,\n",
    "\tshear_range=0.15,\n",
    "\thorizontal_flip=False,\n",
    "\tvertical_flip=False,\n",
    "\tfill_mode=\"nearest\")\n",
    "aug.fit(X_train)"
   ]
  },
  {
   "cell_type": "code",
   "execution_count": 140,
   "metadata": {},
   "outputs": [
    {
     "data": {
      "text/plain": [
       "'\\nAugmentation de données :\\n\\ndata_augmentation = tf.keras.Sequential(\\n    [\\n        tf.keras.layers.experimental.preprocessing.RandomFlip(\\n            \"horizontal\", input_shape=(64, 64, 3)),\\n        tf.keras.layers.experimental.preprocessing.RandomRotation(0.1),\\n        tf.keras.layers.experimental.preprocessing.RandomZoom(0.2),\\n        tf.keras.layers.experimental.preprocessing.RandomFlip(\\n            mode=\"horizontal_and_vertical\")\\n    ]\\n)\\n\\naugmented_image = data_augmentation(X_train[a:b])\\naugmented_image = data_augmentation(X_test[c:d])\\n==> Augmente les images de X_train[a] à X_train[b] non compris et X_test[c] à X_test[d] non compris\\n\\nidx = random.randint(a, b)\\nplt.figure()\\nplt.subplot(1, 2, 1)\\nplt.imshow(X_train[idx])\\n\\nplt.subplot(1, 2, 2)\\nplt.imshow(augmented_image[idx])\\n\\n'"
      ]
     },
     "execution_count": 140,
     "metadata": {},
     "output_type": "execute_result"
    }
   ],
   "source": [
    "\n",
    "'''\n",
    "Augmentation de données :\n",
    "\n",
    "data_augmentation = tf.keras.Sequential(\n",
    "    [\n",
    "        tf.keras.layers.experimental.preprocessing.RandomFlip(\n",
    "            \"horizontal\", input_shape=(64, 64, 3)),\n",
    "        tf.keras.layers.experimental.preprocessing.RandomRotation(0.1),\n",
    "        tf.keras.layers.experimental.preprocessing.RandomZoom(0.2),\n",
    "        tf.keras.layers.experimental.preprocessing.RandomFlip(\n",
    "            mode=\"horizontal_and_vertical\")\n",
    "    ]\n",
    ")\n",
    "\n",
    "augmented_image = data_augmentation(X_train[a:b])\n",
    "augmented_image = data_augmentation(X_test[c:d])\n",
    "==> Augmente les images de X_train[a] à X_train[b] non compris et X_test[c] à X_test[d] non compris\n",
    "\n",
    "idx = random.randint(a, b)\n",
    "plt.figure()\n",
    "plt.subplot(1, 2, 1)\n",
    "plt.imshow(X_train[idx])\n",
    "\n",
    "plt.subplot(1, 2, 2)\n",
    "plt.imshow(augmented_image[idx])\n",
    "\n",
    "'''"
   ]
  },
  {
   "cell_type": "code",
   "execution_count": 141,
   "metadata": {},
   "outputs": [
    {
     "name": "stdout",
     "output_type": "stream",
     "text": [
      "(4575, 62)\n",
      "(2520, 62)\n"
     ]
    }
   ],
   "source": [
    "y_train = to_categorical(y_train, nbr_class)\n",
    "y_test = to_categorical(y_test, nbr_class)\n",
    "\n",
    "print(y_train.shape)\n",
    "print(y_test.shape)"
   ]
  },
  {
   "cell_type": "code",
   "execution_count": 143,
   "metadata": {},
   "outputs": [],
   "source": [
    "'''\n",
    "On construit le modèle de prédiction sur base de la méthode CNN\n",
    "'''\n",
    "\n",
    "model = Sequential()\n",
    "model.add(Conv2D(filters=32, kernel_size=(5,5), activation='relu', input_shape=X_train.shape[1:]))\n",
    "model.add(Conv2D(filters=32, kernel_size=(5,5), activation='relu'))\n",
    "model.add(MaxPool2D(pool_size=(2, 2)))\n",
    "model.add(Dropout(rate=0.25))\n",
    "model.add(Conv2D(filters=64, kernel_size=(3, 3), activation='relu'))\n",
    "model.add(Conv2D(filters=64, kernel_size=(3, 3), activation='relu'))\n",
    "model.add(MaxPool2D(pool_size=(2, 2)))\n",
    "model.add(Dropout(rate=0.25))\n",
    "model.add(Flatten())\n",
    "model.add(Dense(256, activation='relu'))\n",
    "model.add(Dropout(rate=0.5))\n",
    "model.add(Dense(nbr_class, activation='softmax'))\n",
    "#Compilation of the model\n",
    "model.compile(loss='categorical_crossentropy', optimizer='adam', metrics=['accuracy'])"
   ]
  },
  {
   "cell_type": "code",
   "execution_count": 144,
   "metadata": {},
   "outputs": [
    {
     "name": "stdout",
     "output_type": "stream",
     "text": [
      "Model: \"sequential_13\"\n",
      "_________________________________________________________________\n",
      " Layer (type)                Output Shape              Param #   \n",
      "=================================================================\n",
      " conv2d_52 (Conv2D)          (None, 26, 26, 32)        2432      \n",
      "                                                                 \n",
      " conv2d_53 (Conv2D)          (None, 22, 22, 32)        25632     \n",
      "                                                                 \n",
      " max_pooling2d_26 (MaxPoolin  (None, 11, 11, 32)       0         \n",
      " g2D)                                                            \n",
      "                                                                 \n",
      " dropout_39 (Dropout)        (None, 11, 11, 32)        0         \n",
      "                                                                 \n",
      " conv2d_54 (Conv2D)          (None, 9, 9, 64)          18496     \n",
      "                                                                 \n",
      " conv2d_55 (Conv2D)          (None, 7, 7, 64)          36928     \n",
      "                                                                 \n",
      " max_pooling2d_27 (MaxPoolin  (None, 3, 3, 64)         0         \n",
      " g2D)                                                            \n",
      "                                                                 \n",
      " dropout_40 (Dropout)        (None, 3, 3, 64)          0         \n",
      "                                                                 \n",
      " flatten_13 (Flatten)        (None, 576)               0         \n",
      "                                                                 \n",
      " dense_26 (Dense)            (None, 256)               147712    \n",
      "                                                                 \n",
      " dropout_41 (Dropout)        (None, 256)               0         \n",
      "                                                                 \n",
      " dense_27 (Dense)            (None, 62)                15934     \n",
      "                                                                 \n",
      "=================================================================\n",
      "Total params: 247,134\n",
      "Trainable params: 247,134\n",
      "Non-trainable params: 0\n",
      "_________________________________________________________________\n"
     ]
    }
   ],
   "source": [
    "model.summary()"
   ]
  },
  {
   "cell_type": "code",
   "execution_count": 145,
   "metadata": {},
   "outputs": [
    {
     "name": "stdout",
     "output_type": "stream",
     "text": [
      "Epoch 1/15\n",
      "143/143 [==============================] - 13s 80ms/step - loss: 3.3163 - accuracy: 0.1823 - val_loss: 2.4740 - val_accuracy: 0.4222\n",
      "Epoch 2/15\n",
      "143/143 [==============================] - 11s 79ms/step - loss: 2.1893 - accuracy: 0.4197 - val_loss: 1.4975 - val_accuracy: 0.5968\n",
      "Epoch 3/15\n",
      "143/143 [==============================] - 12s 81ms/step - loss: 1.6612 - accuracy: 0.5314 - val_loss: 1.0457 - val_accuracy: 0.7306\n",
      "Epoch 4/15\n",
      "143/143 [==============================] - 11s 80ms/step - loss: 1.3767 - accuracy: 0.6009 - val_loss: 0.8147 - val_accuracy: 0.7488\n",
      "Epoch 5/15\n",
      "143/143 [==============================] - 11s 77ms/step - loss: 1.1718 - accuracy: 0.6505 - val_loss: 0.6788 - val_accuracy: 0.7579\n",
      "Epoch 6/15\n",
      "143/143 [==============================] - 11s 78ms/step - loss: 1.0727 - accuracy: 0.6815 - val_loss: 0.6117 - val_accuracy: 0.7937\n",
      "Epoch 7/15\n",
      "143/143 [==============================] - 11s 79ms/step - loss: 0.9225 - accuracy: 0.7139 - val_loss: 0.4646 - val_accuracy: 0.8651\n",
      "Epoch 8/15\n",
      "143/143 [==============================] - 11s 79ms/step - loss: 0.8659 - accuracy: 0.7395 - val_loss: 0.4253 - val_accuracy: 0.8754\n",
      "Epoch 9/15\n",
      "143/143 [==============================] - 11s 79ms/step - loss: 0.7617 - accuracy: 0.7668 - val_loss: 0.3945 - val_accuracy: 0.8988\n",
      "Epoch 10/15\n",
      "143/143 [==============================] - 12s 83ms/step - loss: 0.7426 - accuracy: 0.7733 - val_loss: 0.3046 - val_accuracy: 0.9151\n",
      "Epoch 11/15\n",
      "143/143 [==============================] - 11s 76ms/step - loss: 0.6584 - accuracy: 0.7928 - val_loss: 0.3226 - val_accuracy: 0.9075\n",
      "Epoch 12/15\n",
      "143/143 [==============================] - 11s 78ms/step - loss: 0.6205 - accuracy: 0.8098 - val_loss: 0.2682 - val_accuracy: 0.9246\n",
      "Epoch 13/15\n",
      "143/143 [==============================] - 12s 86ms/step - loss: 0.6005 - accuracy: 0.8170 - val_loss: 0.3202 - val_accuracy: 0.9079\n",
      "Epoch 14/15\n",
      "143/143 [==============================] - 12s 82ms/step - loss: 0.5760 - accuracy: 0.8175 - val_loss: 0.2681 - val_accuracy: 0.9127\n",
      "Epoch 15/15\n",
      "143/143 [==============================] - 11s 80ms/step - loss: 0.5318 - accuracy: 0.8343 - val_loss: 0.2207 - val_accuracy: 0.9444\n"
     ]
    }
   ],
   "source": [
    "'''\n",
    "On entraîne le modèle de prédiction\n",
    "'''\n",
    "\n",
    "eps = 15\n",
    "#mycallbacks = [EarlyStopping(monitor='val_loss', patience=5)]\n",
    "anc = model.fit(aug.flow(X_train, y_train), validation_data=(X_test, y_test), epochs=eps)\n",
    "#added aug.flow to (X_train, y_train) to do data augmentation\n"
   ]
  },
  {
   "cell_type": "code",
   "execution_count": 146,
   "metadata": {},
   "outputs": [
    {
     "data": {
      "image/png": "[encoded data removed]",
      "text/plain": [
       "<Figure size 432x288 with 1 Axes>"
      ]
     },
     "metadata": {
      "needs_background": "light"
     },
     "output_type": "display_data"
    },
    {
     "data": {
      "image/png": "[encoded data removed]",
      "text/plain": [
       "<Figure size 432x288 with 1 Axes>"
      ]
     },
     "metadata": {
      "needs_background": "light"
     },
     "output_type": "display_data"
    }
   ],
   "source": [
    "'''\n",
    "On plot les résultats de performances\n",
    "'''\n",
    "\n",
    "plt.figure(0)\n",
    "plt.plot(anc.history['accuracy'], label='training accuracy')\n",
    "plt.plot(anc.history['val_accuracy'], label='test accuracy')\n",
    "plt.title('Accuracy')\n",
    "plt.xlabel('epochs')\n",
    "plt.ylabel('accuracy')\n",
    "plt.legend()\n",
    "plt.show()\n",
    "plt.figure(1)\n",
    "plt.plot(anc.history['loss'], label='training loss')\n",
    "plt.plot(anc.history['val_loss'], label='test loss')\n",
    "plt.title('Loss')\n",
    "plt.xlabel('epochs')\n",
    "plt.ylabel('loss')\n",
    "plt.legend()\n",
    "plt.show()"
   ]
  },
  {
   "cell_type": "code",
   "execution_count": 147,
   "metadata": {},
   "outputs": [
    {
     "name": "stdout",
     "output_type": "stream",
     "text": [
      "[INFO] evaluating network...\n",
      "79/79 [==============================] - 1s 16ms/step\n",
      "                                 precision    recall  f1-score   support\n",
      "\n",
      "               \"uneven_surface\"       1.00      0.67      0.80         6\n",
      "                         \"bump\"       0.96      1.00      0.98        27\n",
      "                     \"slippery\"       1.00      0.86      0.92         7\n",
      "                   \"left_curve\"       0.00      0.00      0.00         6\n",
      "                  \"right_curve\"       0.00      0.00      0.00        12\n",
      "                  \"left_curves\"       1.00      0.67      0.80         3\n",
      "                 \"right_curves\"       0.00      0.00      0.00         6\n",
      "                     \"children\"       0.90      0.97      0.93        90\n",
      "                      \"cyclist\"       0.42      0.92      0.58        12\n",
      "                      \"animals\"       0.00      0.00      0.00         0\n",
      "                    \"roadworks\"       0.88      1.00      0.93        28\n",
      "              \"traffic_signals\"       0.00      0.00      0.00         0\n",
      "            \"crossing_barriers\"       1.00      1.00      1.00         3\n",
      "                       \"danger\"       1.00      0.90      0.95        39\n",
      "                 \"road_narrows\"       0.48      1.00      0.65        15\n",
      "                 \"left_narrows\"       0.00      0.00      0.00         0\n",
      "                \"right_narrows\"       0.00      0.00      0.00        12\n",
      "                    \"crossroad\"       0.98      1.00      0.99       183\n",
      "               \"right_priority\"       0.97      0.95      0.96       122\n",
      "                     \"give_way\"       1.00      1.00      1.00       163\n",
      "            \"give_way_oncoming\"       0.60      1.00      0.75         3\n",
      "                         \"stop\"       1.00      0.98      0.99        45\n",
      "                     \"no_entry\"       1.00      1.00      1.00        61\n",
      "                   \"no_cyclist\"       1.00      0.07      0.12        15\n",
      "                 \"weight_limit\"       0.71      0.92      0.80        13\n",
      "                     \"no_truck\"       0.75      1.00      0.86         3\n",
      "                  \"width_limit\"       0.00      0.00      0.00         0\n",
      "                 \"height_limit\"       1.00      0.22      0.36         9\n",
      "                  \"no_vehicles\"       0.89      1.00      0.94        51\n",
      "                      \"no_left\"       0.90      0.96      0.93        28\n",
      "                     \"no_right\"       0.97      1.00      0.99        37\n",
      "                \"no_overtaking\"       1.00      1.00      1.00        86\n",
      "                  \"speed_limit\"       0.97      1.00      0.99       422\n",
      "    \"shared_pedestrian_cyclist\"       0.00      0.00      0.00         0\n",
      "                  \"go_straight\"       1.00      1.00      1.00         9\n",
      "                 \"go_direction\"       0.97      0.95      0.96       154\n",
      "            \"straight_or_right\"       0.00      0.00      0.00         0\n",
      "                   \"roundabout\"       1.00      0.84      0.91        31\n",
      "                   \"cycle_path\"       1.00      0.96      0.98       213\n",
      "\"segregated_pedestrian_cyclist\"       0.91      0.96      0.94        99\n",
      "                   \"no_parking\"       0.92      0.94      0.93        48\n",
      "                  \"no_stopping\"       1.00      0.73      0.84        11\n",
      "              \"no_parking_1_15\"       0.60      1.00      0.75         9\n",
      "             \"no_parking_16_31\"       0.00      0.00      0.00         6\n",
      "            \"priority_oncoming\"       1.00      1.00      1.00         3\n",
      "                      \"parking\"       0.92      0.93      0.92        84\n",
      "             \"parking_disabled\"       0.50      0.50      0.50         6\n",
      "                 \"parking_cars\"       0.78      1.00      0.87        31\n",
      "               \"parking_trucks\"       0.00      0.00      0.00         0\n",
      "                  \"parking_bus\"       0.00      0.00      0.00         3\n",
      "             \"parking_sidewalk\"       0.00      0.00      0.00         0\n",
      "       \"entering_living_street\"       1.00      1.00      1.00         3\n",
      "        \"leaving_living_street\"       0.00      0.00      0.00         0\n",
      "                      \"one_way\"       1.00      1.00      1.00        24\n",
      "                     \"dead_end\"       1.00      1.00      1.00        48\n",
      "                \"end_roadworks\"       1.00      0.93      0.97        15\n",
      "          \"pedestrian_crossing\"       0.88      0.70      0.78        33\n",
      "             \"cyclist_crossing\"       0.77      1.00      0.87        41\n",
      "                \"parking_right\"       1.00      1.00      1.00         9\n",
      "                    \"bump_info\"       1.00      0.94      0.97        17\n",
      "                 \"end_priority\"       1.00      0.91      0.95        11\n",
      "\n",
      "                      micro avg       0.94      0.94      0.94      2415\n",
      "                      macro avg       0.68      0.68      0.66      2415\n",
      "                   weighted avg       0.93      0.94      0.93      2415\n",
      "\n"
     ]
    },
    {
     "name": "stderr",
     "output_type": "stream",
     "text": [
      "c:\\Users\\marie\\AppData\\Local\\Programs\\Python\\Python310\\lib\\site-packages\\sklearn\\metrics\\_classification.py:2326: UserWarning: labels size, 61, does not match size of target_names, 62\n",
      "  warnings.warn(\n",
      "c:\\Users\\marie\\AppData\\Local\\Programs\\Python\\Python310\\lib\\site-packages\\sklearn\\metrics\\_classification.py:1344: UndefinedMetricWarning: Precision and F-score are ill-defined and being set to 0.0 in labels with no predicted samples. Use `zero_division` parameter to control this behavior.\n",
      "  _warn_prf(average, modifier, msg_start, len(result))\n",
      "c:\\Users\\marie\\AppData\\Local\\Programs\\Python\\Python310\\lib\\site-packages\\sklearn\\metrics\\_classification.py:1344: UndefinedMetricWarning: Recall and F-score are ill-defined and being set to 0.0 in labels with no true samples. Use `zero_division` parameter to control this behavior.\n",
      "  _warn_prf(average, modifier, msg_start, len(result))\n",
      "c:\\Users\\marie\\AppData\\Local\\Programs\\Python\\Python310\\lib\\site-packages\\sklearn\\metrics\\_classification.py:1344: UndefinedMetricWarning: Precision and F-score are ill-defined and being set to 0.0 in labels with no predicted samples. Use `zero_division` parameter to control this behavior.\n",
      "  _warn_prf(average, modifier, msg_start, len(result))\n",
      "c:\\Users\\marie\\AppData\\Local\\Programs\\Python\\Python310\\lib\\site-packages\\sklearn\\metrics\\_classification.py:1344: UndefinedMetricWarning: Recall and F-score are ill-defined and being set to 0.0 in labels with no true samples. Use `zero_division` parameter to control this behavior.\n",
      "  _warn_prf(average, modifier, msg_start, len(result))\n",
      "c:\\Users\\marie\\AppData\\Local\\Programs\\Python\\Python310\\lib\\site-packages\\sklearn\\metrics\\_classification.py:1344: UndefinedMetricWarning: Precision and F-score are ill-defined and being set to 0.0 in labels with no predicted samples. Use `zero_division` parameter to control this behavior.\n",
      "  _warn_prf(average, modifier, msg_start, len(result))\n",
      "c:\\Users\\marie\\AppData\\Local\\Programs\\Python\\Python310\\lib\\site-packages\\sklearn\\metrics\\_classification.py:1344: UndefinedMetricWarning: Recall and F-score are ill-defined and being set to 0.0 in labels with no true samples. Use `zero_division` parameter to control this behavior.\n",
      "  _warn_prf(average, modifier, msg_start, len(result))\n"
     ]
    }
   ],
   "source": [
    "# evaluate the network\n",
    "label_names = open(\"dict.csv\").read().strip().split(\"\\n\")[0:]\n",
    "label_names = [l.split(\",\")[1] for l in label_names]\n",
    "\n",
    "print(\"[INFO] evaluating network...\")\n",
    "predictions = model.predict(X_test) \n",
    "print(classification_report(y_test.argmax(axis=1),\n",
    "\tpredictions.argmax(axis=1), target_names=label_names, labels=range(61)))\n"
   ]
  },
  {
   "attachments": {},
   "cell_type": "markdown",
   "metadata": {},
   "source": [
    "A partir d'un ensemble de feature X_predict :\n",
    "\n",
    "pred = model.predict_classes(X_predict)\n",
    "print(accuracy_score(y_predict, pred))"
   ]
  }
 ],
 "metadata": {
  "kernelspec": {
   "display_name": "base",
   "language": "python",
   "name": "python3"
  },
  "language_info": {
   "codemirror_mode": {
    "name": "ipython",
    "version": 3
   },
   "file_extension": ".py",
   "mimetype": "text/x-python",
   "name": "python",
   "nbconvert_exporter": "python",
   "pygments_lexer": "ipython3",
   "version": "3.9.13"
  },
  "orig_nbformat": 4,
  "vscode": {
   "interpreter": {
    "hash": "42ec03521300b30796ccdc35cacb9255b016bd541d16bcb18ce2f2fe41981b52"
   }
  }
 },
 "nbformat": 4,
 "nbformat_minor": 2
}
