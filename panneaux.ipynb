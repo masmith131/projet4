{
 "cells": [
  {
   "attachments": {},
   "cell_type": "markdown",
   "metadata": {},
   "source": [
    "<font size=6  color= 'blue' > <b>[LEPL1507] - PROJET P4</b> <br>\n",
    "<br><br>\n",
    "Airson Alexis<br>\n",
    "Beniffou Ibrahim <br>\n",
    "Henneaux Lucas <br>\n",
    "Lemaire Antoine <br>\n",
    "Smith Marielle <br>\n",
    "Canon Théo<br>\n",
    "<div style=\"text-align: right\"> </div>\n",
    "\n",
    "<br><br>\n",
    "</font>\n"
   ]
  },
  {
   "cell_type": "code",
   "execution_count": 1,
   "metadata": {},
   "outputs": [
    {
     "name": "stderr",
     "output_type": "stream",
     "text": [
      "c:\\Users\\Ibrahim\\AppData\\Local\\Programs\\Python\\Python39\\lib\\site-packages\\tqdm\\auto.py:22: TqdmWarning: IProgress not found. Please update jupyter and ipywidgets. See https://ipywidgets.readthedocs.io/en/stable/user_install.html\n",
      "  from .autonotebook import tqdm as notebook_tqdm\n"
     ]
    }
   ],
   "source": [
    "import numpy as np\n",
    "from keras.preprocessing.image import ImageDataGenerator\n",
    "import matplotlib.pyplot as plt\n",
    "from keras.utils import to_categorical \n",
    "from keras.models import Sequential \n",
    "from keras.layers import Conv2D, MaxPool2D, Dense, Flatten, Dropout\n",
    "from tensorflow.keras.callbacks import EarlyStopping\n",
    "from sklearn.metrics import accuracy_score, classification_report\n",
    "import os\n",
    "import tensorflow as tf\n",
    "import tensorflow_datasets as tfds\n",
    "\n",
    "from tensorflow.keras import layers\n",
    "import random\n",
    "import warnings\n",
    "warnings.filterwarnings(\"ignore\")\n",
    "warnings.simplefilter(\"ignore\")"
   ]
  },
  {
   "cell_type": "code",
   "execution_count": 2,
   "metadata": {},
   "outputs": [
    {
     "name": "stdout",
     "output_type": "stream",
     "text": [
      "4575\n",
      "Found 4575 images belonging to 62 classes.\n",
      "2520\n",
      "Found 2520 images belonging to 62 classes.\n"
     ]
    }
   ],
   "source": [
    "#preprocessing of ppm dataset \n",
    "path_training = 'BelgiumTSC_Training\\Training'\n",
    "path_testing = 'BelgiumTSC_Testing\\Testing'\n",
    "nbr_class = 62\n",
    "resol = 30\n",
    "\n",
    "DIR = path_training\n",
    "counter = 0\n",
    "for root, dirs, files in os.walk(DIR):\n",
    "    for file in files:    \n",
    "        if file.endswith('.ppm') or file.endswith('.jpeg'):\n",
    "            counter += 1\n",
    "\n",
    "print(counter)\n",
    "\n",
    "batch_size_train = counter\n",
    "\n",
    "train_datagen = ImageDataGenerator( rescale =1./255, zoom_range = 0.2, horizontal_flip = True)\n",
    "training_set = train_datagen.flow_from_directory(path_training,target_size = (resol, resol),\n",
    "batch_size = batch_size_train,class_mode = 'binary', color_mode='rgb')\n",
    "\n",
    "DIR = path_testing\n",
    "counter = 0\n",
    "for root, dirs, files in os.walk(DIR):\n",
    "    for file in files:    \n",
    "        if file.endswith('.ppm') or file.endswith('.jpeg'):\n",
    "            counter += 1\n",
    "\n",
    "print(counter)\n",
    "\n",
    "batch_size_test = counter\n",
    "\n",
    "test_datagen = ImageDataGenerator(rescale = 1./255)\n",
    "test_set = test_datagen.flow_from_directory(path_testing,\n",
    "target_size = (resol, resol),batch_size = batch_size_test, class_mode = 'binary')\n"
   ]
  },
  {
   "attachments": {},
   "cell_type": "markdown",
   "metadata": {},
   "source": [
    "training_set = ensemble de 143 tuples\n",
    "Chaque tuple représente 32 images (sauf le dernier, 31 images)\n",
    "\n",
    "tuple[0] = features = tableau (32, 30, 30, 3)\n",
    "tuple[1] = label = tableau (32)\n",
    "\n",
    "plt.imshow(training_set[i][0][j]) affiche l'image n°j du paquet d'image n°i "
   ]
  },
  {
   "cell_type": "code",
   "execution_count": 3,
   "metadata": {},
   "outputs": [
    {
     "name": "stdout",
     "output_type": "stream",
     "text": [
      "(4575, 30, 30, 3)\n",
      "(4575,)\n",
      "(2520, 30, 30, 3)\n",
      "(2520,)\n"
     ]
    },
    {
     "data": {
      "text/plain": [
       "'aug = ImageDataGenerator(\\n\\trotation_range=10,\\n\\tzoom_range=0.15,\\n\\twidth_shift_range=0.1,\\n\\theight_shift_range=0.1,\\n\\tshear_range=0.15,\\n\\thorizontal_flip=False,\\n\\tvertical_flip=False,\\n\\tfill_mode=\"nearest\")\\naug.fit(X_train)'"
      ]
     },
     "execution_count": 3,
     "metadata": {},
     "output_type": "execute_result"
    }
   ],
   "source": [
    "'''\n",
    "On met toutes les données du Training Set dans un numpy array\n",
    "'''\n",
    "\n",
    "X_train , y_train = training_set.next()\n",
    "X_test , y_test = test_set.next()\n",
    "\n",
    "print(X_train.shape)\n",
    "print(y_train.shape)\n",
    "print(X_test.shape)\n",
    "print(y_test.shape)\n",
    "\n",
    "#data augmentation\n",
    "'''aug = ImageDataGenerator(\n",
    "\trotation_range=10,\n",
    "\tzoom_range=0.15,\n",
    "\twidth_shift_range=0.1,\n",
    "\theight_shift_range=0.1,\n",
    "\tshear_range=0.15,\n",
    "\thorizontal_flip=False,\n",
    "\tvertical_flip=False,\n",
    "\tfill_mode=\"nearest\")\n",
    "aug.fit(X_train)'''"
   ]
  },
  {
   "cell_type": "code",
   "execution_count": 4,
   "metadata": {},
   "outputs": [
    {
     "data": {
      "image/png": "[encoded data removed]",
      "text/plain": [
       "<Figure size 1440x504 with 1 Axes>"
      ]
     },
     "metadata": {
      "needs_background": "light"
     },
     "output_type": "display_data"
    }
   ],
   "source": [
    "a = np.zeros(nbr_class, dtype=int)\n",
    "b = np.zeros(nbr_class, dtype=int)\n",
    "for i in range(nbr_class) :\n",
    "    a[i] = int((y_train == i).sum())  # Nombre d'image de la classe n°i dans le Training set\n",
    "    b[i] = int((y_test == i).sum())   # Nombre d'image de la classe n°i dans le Test set\n",
    "\n",
    "fig, ax = plt.subplots(figsize = (20, 7))\n",
    "bins = [x + 0.5 for x in range(-1, nbr_class)]\n",
    "ax.hist([y_train, y_test], range = (0, nbr_class-1), bins=bins, edgecolor = 'white')\n",
    "plt.xticks(np.arange(nbr_class))\n",
    "plt.show()"
   ]
  },
  {
   "cell_type": "code",
   "execution_count": null,
   "metadata": {},
   "outputs": [],
   "source": [
    "\n",
    "'''\n",
    "Augmentation de données :\n",
    "\n",
    "data_augmentation = tf.keras.Sequential(\n",
    "    [\n",
    "        tf.keras.layers.experimental.preprocessing.RandomFlip(\n",
    "            \"horizontal\", input_shape=(64, 64, 3)),\n",
    "        tf.keras.layers.experimental.preprocessing.RandomRotation(0.1),\n",
    "        tf.keras.layers.experimental.preprocessing.RandomZoom(0.2),\n",
    "        tf.keras.layers.experimental.preprocessing.RandomFlip(\n",
    "            mode=\"horizontal_and_vertical\")\n",
    "    ]\n",
    ")\n",
    "\n",
    "augmented_image = data_augmentation(X_train[a:b])\n",
    "augmented_image = data_augmentation(X_test[c:d])\n",
    "==> Augmente les images de X_train[a] à X_train[b] non compris et X_test[c] à X_test[d] non compris\n",
    "\n",
    "idx = random.randint(a, b)\n",
    "plt.figure()\n",
    "plt.subplot(1, 2, 1)\n",
    "plt.imshow(X_train[idx])\n",
    "\n",
    "plt.subplot(1, 2, 2)\n",
    "plt.imshow(augmented_image[idx])\n",
    "\n",
    "'''"
   ]
  },
  {
   "cell_type": "code",
   "execution_count": 6,
   "metadata": {},
   "outputs": [
    {
     "name": "stdout",
     "output_type": "stream",
     "text": [
      "WARNING:tensorflow:Using a while_loop for converting RngReadAndSkip cause there is no registered converter for this op.\n",
      "WARNING:tensorflow:Using a while_loop for converting Bitcast cause there is no registered converter for this op.\n",
      "WARNING:tensorflow:Using a while_loop for converting Bitcast cause there is no registered converter for this op.\n",
      "WARNING:tensorflow:Using a while_loop for converting StatelessRandomUniformV2 cause there is no registered converter for this op.\n",
      "WARNING:tensorflow:Using a while_loop for converting ImageProjectiveTransformV3 cause there is no registered converter for this op.\n",
      "WARNING:tensorflow:Using a while_loop for converting RngReadAndSkip cause there is no registered converter for this op.\n",
      "WARNING:tensorflow:Using a while_loop for converting Bitcast cause there is no registered converter for this op.\n",
      "WARNING:tensorflow:Using a while_loop for converting Bitcast cause there is no registered converter for this op.\n",
      "WARNING:tensorflow:Using a while_loop for converting StatelessRandomUniformV2 cause there is no registered converter for this op.\n",
      "WARNING:tensorflow:Using a while_loop for converting ImageProjectiveTransformV3 cause there is no registered converter for this op.\n",
      "WARNING:tensorflow:Using a while_loop for converting RngReadAndSkip cause there is no registered converter for this op.\n",
      "WARNING:tensorflow:Using a while_loop for converting Bitcast cause there is no registered converter for this op.\n",
      "WARNING:tensorflow:Using a while_loop for converting Bitcast cause there is no registered converter for this op.\n",
      "WARNING:tensorflow:Using a while_loop for converting StatelessRandomUniformV2 cause there is no registered converter for this op.\n",
      "WARNING:tensorflow:Using a while_loop for converting ImageProjectiveTransformV3 cause there is no registered converter for this op.\n",
      "WARNING:tensorflow:Using a while_loop for converting RngReadAndSkip cause there is no registered converter for this op.\n",
      "WARNING:tensorflow:Using a while_loop for converting Bitcast cause there is no registered converter for this op.\n",
      "WARNING:tensorflow:Using a while_loop for converting Bitcast cause there is no registered converter for this op.\n",
      "WARNING:tensorflow:Using a while_loop for converting StatelessRandomUniformV2 cause there is no registered converter for this op.\n",
      "WARNING:tensorflow:Using a while_loop for converting ImageProjectiveTransformV3 cause there is no registered converter for this op.\n",
      "WARNING:tensorflow:Using a while_loop for converting RngReadAndSkip cause there is no registered converter for this op.\n",
      "WARNING:tensorflow:Using a while_loop for converting Bitcast cause there is no registered converter for this op.\n",
      "WARNING:tensorflow:Using a while_loop for converting Bitcast cause there is no registered converter for this op.\n",
      "WARNING:tensorflow:Using a while_loop for converting StatelessRandomUniformV2 cause there is no registered converter for this op.\n",
      "WARNING:tensorflow:Using a while_loop for converting ImageProjectiveTransformV3 cause there is no registered converter for this op.\n",
      "WARNING:tensorflow:Using a while_loop for converting RngReadAndSkip cause there is no registered converter for this op.\n",
      "WARNING:tensorflow:Using a while_loop for converting Bitcast cause there is no registered converter for this op.\n",
      "WARNING:tensorflow:Using a while_loop for converting Bitcast cause there is no registered converter for this op.\n",
      "WARNING:tensorflow:Using a while_loop for converting StatelessRandomUniformV2 cause there is no registered converter for this op.\n",
      "WARNING:tensorflow:Using a while_loop for converting ImageProjectiveTransformV3 cause there is no registered converter for this op.\n"
     ]
    }
   ],
   "source": [
    "data_augmentation = tf.keras.Sequential(\n",
    "    [\n",
    "        tf.keras.layers.experimental.preprocessing.RandomFlip(\n",
    "            \"horizontal\", input_shape=(resol, resol, 3)),\n",
    "        tf.keras.layers.experimental.preprocessing.RandomRotation(0.1),\n",
    "        tf.keras.layers.experimental.preprocessing.RandomZoom(0.2),\n",
    "        tf.keras.layers.experimental.preprocessing.RandomFlip(\n",
    "            mode=\"horizontal_and_vertical\")\n",
    "    ]\n",
    ")\n",
    "\n",
    "augmented_image_train = data_augmentation(X_train)\n",
    "augmented_image_test = data_augmentation(X_test)"
   ]
  },
  {
   "cell_type": "code",
   "execution_count": 18,
   "metadata": {},
   "outputs": [],
   "source": [
    "'''\n",
    "1er méthode d'augmentation des données:\n",
    "    Si le training set a moins d'éléments que le 3/4 du test set, on le rempli d'images augmentées\n",
    "'''\n",
    "\n",
    "memory = np.zeros((nbr_class, 2), dtype=int)\n",
    "counter_train = 0\n",
    "counter_test = 0\n",
    "for i in range(nbr_class) :\n",
    "    if a[i] < 3*b[i]/4 :  # On ajoute dans le Training Set\n",
    "        if len(np.where(y_train == i)[0]) != 0 :\n",
    "            memory[i][0] = np.abs(3*b[i]/4 - a[i])\n",
    "            counter_train += int(np.abs(3*b[i]/4 - a[i]))\n",
    "\n",
    "X_train_new = np.zeros((len(X_train) + counter_train, resol, resol, 3))\n",
    "y_train_new = np.zeros(len(y_train) + counter_train)\n",
    "X_train_new[:len(X_train)] = X_train\n",
    "y_train_new[:len(y_train)] = y_train\n",
    "\n",
    "X_test_new = np.zeros((len(X_test) + counter_test, resol, resol, 3))\n",
    "y_test_new = np.zeros(len(y_test) + counter_test)\n",
    "X_test_new[:len(X_test)] = X_test\n",
    "y_test_new[:len(y_test)] = y_test\n",
    "\n",
    "index_train = len(X_train)\n",
    "index_test = len(X_test)\n",
    "for i in range(nbr_class) :\n",
    "    if memory[i][0] > 0 : # On ajoute dans le Training Set\n",
    "        indices = np.where(y_train == i)\n",
    "        augmented_image = tf.gather(augmented_image_train, indices=indices[0])\n",
    "        for j in range(memory[i][0]) :\n",
    "            idx = random.randint(0, len(indices[0])-1)\n",
    "            X_train_new[index_train] = augmented_image[idx]\n",
    "            y_train_new[index_train] = i\n",
    "            index_train += 1"
   ]
  },
  {
   "cell_type": "code",
   "execution_count": 19,
   "metadata": {},
   "outputs": [
    {
     "data": {
      "image/png": "[encoded data removed]",
      "text/plain": [
       "<Figure size 1440x504 with 1 Axes>"
      ]
     },
     "metadata": {
      "needs_background": "light"
     },
     "output_type": "display_data"
    }
   ],
   "source": [
    "fig, ax = plt.subplots(figsize = (20, 7))\n",
    "bins = [x + 0.5 for x in range(-1, nbr_class)]\n",
    "ax.hist([y_train_new, y_test_new], range = (0, nbr_class-1), bins=bins, edgecolor = 'white')\n",
    "plt.xticks(np.arange(nbr_class))\n",
    "plt.show()"
   ]
  },
  {
   "cell_type": "code",
   "execution_count": 7,
   "metadata": {},
   "outputs": [],
   "source": [
    "'''\n",
    "2e méthode d'augmentation des données:\n",
    "    On augmente le training set de sorte à ce que toutes les classes soit représentées avec le même nombre, le max déjà présent\n",
    "'''\n",
    "\n",
    "memory = np.zeros(nbr_class, dtype=int)\n",
    "lim = max(a)\n",
    "counter = 0\n",
    "for i in range(nbr_class) :\n",
    "    memory[i] = lim - a[i]\n",
    "    counter += lim - a[i]\n",
    "\n",
    "X_train_new = np.zeros((len(X_train) + counter, resol, resol, 3))\n",
    "y_train_new = np.zeros(len(y_train) + counter)\n",
    "X_train_new[:len(X_train)] = X_train\n",
    "y_train_new[:len(y_train)] = y_train\n",
    "\n",
    "index = len(X_train)\n",
    "for i in range(nbr_class) :\n",
    "    indices = np.where(y_train == i)\n",
    "    augmented_image = tf.gather(augmented_image_train, indices=indices[0])\n",
    "    for j in range(memory[i]) :\n",
    "        idx = random.randint(0, len(indices[0])-1)\n",
    "        X_train_new[index] = augmented_image[idx]\n",
    "        y_train_new[index] = i\n",
    "        index += 1"
   ]
  },
  {
   "cell_type": "code",
   "execution_count": 13,
   "metadata": {},
   "outputs": [
    {
     "data": {
      "image/png": "[encoded data removed]",
      "text/plain": [
       "<Figure size 1440x504 with 1 Axes>"
      ]
     },
     "metadata": {
      "needs_background": "light"
     },
     "output_type": "display_data"
    }
   ],
   "source": [
    "X_test_new = X_test\n",
    "y_test_new = y_test\n",
    "\n",
    "fig, ax = plt.subplots(figsize = (20, 7))\n",
    "bins = [x + 0.5 for x in range(-1, nbr_class)]\n",
    "ax.hist([y_train_new, y_test_new], range = (0, nbr_class-1), bins=bins, edgecolor = 'white')\n",
    "plt.xticks(np.arange(nbr_class))\n",
    "plt.show()"
   ]
  },
  {
   "cell_type": "code",
   "execution_count": 14,
   "metadata": {},
   "outputs": [
    {
     "name": "stdout",
     "output_type": "stream",
     "text": [
      "(23250, 62)\n",
      "(2520, 62)\n"
     ]
    }
   ],
   "source": [
    "y_train_new_tc = to_categorical(y_train_new, nbr_class)\n",
    "y_test_new_tc = to_categorical(y_test_new, nbr_class)\n",
    "\n",
    "print(y_train_new_tc.shape)\n",
    "print(y_test_new_tc.shape)"
   ]
  },
  {
   "cell_type": "code",
   "execution_count": 11,
   "metadata": {},
   "outputs": [],
   "source": [
    "'''\n",
    "On construit le modèle de prédiction sur base de la méthode CNN\n",
    "'''\n",
    "\n",
    "model = Sequential()\n",
    "model.add(Conv2D(filters=32, kernel_size=(5,5), activation='relu', input_shape=X_train_new.shape[1:]))\n",
    "model.add(Conv2D(filters=32, kernel_size=(5,5), activation='relu'))\n",
    "model.add(MaxPool2D(pool_size=(2, 2)))\n",
    "model.add(Dropout(rate=0.25))\n",
    "model.add(Conv2D(filters=64, kernel_size=(3, 3), activation='relu'))\n",
    "model.add(Conv2D(filters=64, kernel_size=(3, 3), activation='relu'))\n",
    "model.add(MaxPool2D(pool_size=(2, 2)))\n",
    "model.add(Dropout(rate=0.25))\n",
    "model.add(Flatten())\n",
    "model.add(Dense(256, activation='relu'))\n",
    "model.add(Dropout(rate=0.5))\n",
    "model.add(Dense(nbr_class, activation='softmax'))\n",
    "#Compilation of the model\n",
    "model.compile(loss='categorical_crossentropy', optimizer='adam', metrics=['accuracy'])"
   ]
  },
  {
   "cell_type": "code",
   "execution_count": null,
   "metadata": {},
   "outputs": [],
   "source": [
    "model.summary()"
   ]
  },
  {
   "cell_type": "code",
   "execution_count": 15,
   "metadata": {},
   "outputs": [
    {
     "name": "stdout",
     "output_type": "stream",
     "text": [
      "Epoch 1/15\n",
      "727/727 [==============================] - 84s 114ms/step - loss: 2.4741 - accuracy: 0.3315 - val_loss: 0.6438 - val_accuracy: 0.7960\n",
      "Epoch 2/15\n",
      "727/727 [==============================] - 83s 115ms/step - loss: 0.9026 - accuracy: 0.7246 - val_loss: 0.4127 - val_accuracy: 0.8881\n",
      "Epoch 3/15\n",
      "727/727 [==============================] - 83s 114ms/step - loss: 0.5441 - accuracy: 0.8300 - val_loss: 0.3283 - val_accuracy: 0.9159\n",
      "Epoch 4/15\n",
      "727/727 [==============================] - 81s 112ms/step - loss: 0.4132 - accuracy: 0.8720 - val_loss: 0.3213 - val_accuracy: 0.9155\n",
      "Epoch 5/15\n",
      "727/727 [==============================] - 85s 116ms/step - loss: 0.3274 - accuracy: 0.8966 - val_loss: 0.3475 - val_accuracy: 0.9071\n",
      "Epoch 6/15\n",
      "727/727 [==============================] - 86s 119ms/step - loss: 0.2981 - accuracy: 0.9047 - val_loss: 0.2600 - val_accuracy: 0.9456\n",
      "Epoch 7/15\n",
      "727/727 [==============================] - 86s 118ms/step - loss: 0.2596 - accuracy: 0.9205 - val_loss: 0.3032 - val_accuracy: 0.9274\n",
      "Epoch 8/15\n",
      "727/727 [==============================] - 78s 108ms/step - loss: 0.2402 - accuracy: 0.9222 - val_loss: 0.3029 - val_accuracy: 0.9190\n",
      "Epoch 9/15\n",
      "727/727 [==============================] - 79s 109ms/step - loss: 0.2168 - accuracy: 0.9311 - val_loss: 0.3245 - val_accuracy: 0.9274\n",
      "Epoch 10/15\n",
      "727/727 [==============================] - 74s 102ms/step - loss: 0.1984 - accuracy: 0.9364 - val_loss: 0.2236 - val_accuracy: 0.9544\n",
      "Epoch 11/15\n",
      "727/727 [==============================] - 70s 97ms/step - loss: 0.1857 - accuracy: 0.9409 - val_loss: 0.3028 - val_accuracy: 0.9270\n",
      "Epoch 12/15\n",
      "727/727 [==============================] - 70s 96ms/step - loss: 0.1879 - accuracy: 0.9404 - val_loss: 0.3424 - val_accuracy: 0.9190\n",
      "Epoch 13/15\n",
      "727/727 [==============================] - 71s 97ms/step - loss: 0.1698 - accuracy: 0.9463 - val_loss: 0.2788 - val_accuracy: 0.9417\n",
      "Epoch 14/15\n",
      "727/727 [==============================] - 72s 99ms/step - loss: 0.1663 - accuracy: 0.9480 - val_loss: 0.2900 - val_accuracy: 0.9325\n",
      "Epoch 15/15\n",
      "727/727 [==============================] - 72s 100ms/step - loss: 0.1703 - accuracy: 0.9472 - val_loss: 0.4044 - val_accuracy: 0.9123\n"
     ]
    }
   ],
   "source": [
    "'''\n",
    "On entraîne le modèle de prédiction\n",
    "'''\n",
    "\n",
    "eps = 15\n",
    "#mycallbacks = [EarlyStopping(monitor='val_loss', patience=5)]\n",
    "anc = model.fit(X_train_new, y_train_new_tc, validation_data=(X_test_new, y_test_new_tc), epochs=eps)\n",
    "#added aug.flow to (X_train, y_train) to do data augmentation\n"
   ]
  },
  {
   "cell_type": "code",
   "execution_count": 17,
   "metadata": {},
   "outputs": [
    {
     "data": {
      "image/png": "[encoded data removed]",
      "text/plain": [
       "<Figure size 432x288 with 2 Axes>"
      ]
     },
     "metadata": {
      "needs_background": "light"
     },
     "output_type": "display_data"
    }
   ],
   "source": [
    "'''\n",
    "On plot les résultats de performances\n",
    "'''\n",
    "\n",
    "plt.figure()\n",
    "\n",
    "plt.subplot(2, 1, 1)\n",
    "plt.plot(anc.history['accuracy'], label='training accuracy')\n",
    "plt.plot(anc.history['val_accuracy'], label='test accuracy')\n",
    "plt.title('Accuracy')\n",
    "plt.xlabel('epochs')\n",
    "plt.ylabel('accuracy')\n",
    "plt.legend()\n",
    "plt.ylim(0, 1)\n",
    "\n",
    "plt.subplot(2, 1, 2)\n",
    "plt.plot(anc.history['loss'], label='training loss')\n",
    "plt.plot(anc.history['val_loss'], label='test loss')\n",
    "plt.title('Loss')\n",
    "plt.xlabel('epochs')\n",
    "plt.ylabel('loss')\n",
    "plt.legend()\n",
    "plt.ylim(0, 1)\n",
    "\n",
    "plt.show()"
   ]
  },
  {
   "cell_type": "code",
   "execution_count": 23,
   "metadata": {},
   "outputs": [
    {
     "name": "stdout",
     "output_type": "stream",
     "text": [
      "[INFO] evaluating network...\n",
      "79/79 [==============================] - 1s 18ms/step\n",
      "                                 precision    recall  f1-score   support\n",
      "\n",
      "               \"uneven_surface\"       1.00      1.00      1.00         6\n",
      "                         \"bump\"       0.87      1.00      0.93        27\n",
      "                     \"slippery\"       1.00      1.00      1.00         7\n",
      "                   \"left_curve\"       0.38      0.50      0.43         6\n",
      "                  \"right_curve\"       1.00      0.75      0.86        12\n",
      "                  \"left_curves\"       0.00      0.00      0.00         3\n",
      "                 \"right_curves\"       0.40      0.33      0.36         6\n",
      "                     \"children\"       0.90      1.00      0.95        90\n",
      "                      \"cyclist\"       0.73      0.67      0.70        12\n",
      "                      \"animals\"       0.00      0.00      0.00         0\n",
      "                    \"roadworks\"       1.00      0.71      0.83        28\n",
      "              \"traffic_signals\"       0.00      0.00      0.00         0\n",
      "            \"crossing_barriers\"       0.60      1.00      0.75         3\n",
      "                       \"danger\"       0.97      0.82      0.89        39\n",
      "                 \"road_narrows\"       0.64      0.93      0.76        15\n",
      "                 \"left_narrows\"       0.00      0.00      0.00         0\n",
      "                \"right_narrows\"       1.00      0.58      0.74        12\n",
      "                    \"crossroad\"       0.98      0.98      0.98       183\n",
      "               \"right_priority\"       0.99      0.93      0.96       122\n",
      "                     \"give_way\"       0.98      0.98      0.98       163\n",
      "            \"give_way_oncoming\"       0.60      1.00      0.75         3\n",
      "                         \"stop\"       0.94      0.98      0.96        45\n",
      "                     \"no_entry\"       1.00      1.00      1.00        61\n",
      "                   \"no_cyclist\"       1.00      1.00      1.00        15\n",
      "                 \"weight_limit\"       0.77      0.77      0.77        13\n",
      "                     \"no_truck\"       1.00      1.00      1.00         3\n",
      "                  \"width_limit\"       0.00      0.00      0.00         0\n",
      "                 \"height_limit\"       0.67      0.44      0.53         9\n",
      "                  \"no_vehicles\"       1.00      1.00      1.00        51\n",
      "                      \"no_left\"       0.97      1.00      0.98        28\n",
      "                     \"no_right\"       0.92      0.97      0.95        37\n",
      "                \"no_overtaking\"       1.00      1.00      1.00        86\n",
      "                  \"speed_limit\"       0.99      1.00      0.99       422\n",
      "    \"shared_pedestrian_cyclist\"       0.00      0.00      0.00         0\n",
      "                  \"go_straight\"       0.08      1.00      0.14         9\n",
      "                 \"go_direction\"       0.95      0.25      0.39       154\n",
      "            \"straight_or_right\"       0.00      0.00      0.00         0\n",
      "                   \"roundabout\"       0.97      0.90      0.93        31\n",
      "                   \"cycle_path\"       0.99      0.93      0.96       213\n",
      "\"segregated_pedestrian_cyclist\"       0.86      0.99      0.92        99\n",
      "                   \"no_parking\"       0.98      0.98      0.98        48\n",
      "                  \"no_stopping\"       1.00      1.00      1.00        11\n",
      "              \"no_parking_1_15\"       1.00      1.00      1.00         9\n",
      "             \"no_parking_16_31\"       1.00      1.00      1.00         6\n",
      "            \"priority_oncoming\"       1.00      1.00      1.00         3\n",
      "                      \"parking\"       0.93      0.94      0.93        84\n",
      "             \"parking_disabled\"       0.00      0.00      0.00         6\n",
      "                 \"parking_cars\"       0.89      1.00      0.94        31\n",
      "               \"parking_trucks\"       0.00      0.00      0.00         0\n",
      "                  \"parking_bus\"       0.00      0.00      0.00         3\n",
      "             \"parking_sidewalk\"       0.00      0.00      0.00         0\n",
      "       \"entering_living_street\"       1.00      1.00      1.00         3\n",
      "        \"leaving_living_street\"       0.00      0.00      0.00         0\n",
      "                      \"one_way\"       0.92      1.00      0.96        24\n",
      "                     \"dead_end\"       1.00      1.00      1.00        48\n",
      "                \"end_roadworks\"       1.00      0.80      0.89        15\n",
      "          \"pedestrian_crossing\"       1.00      1.00      1.00        33\n",
      "             \"cyclist_crossing\"       1.00      1.00      1.00        41\n",
      "                \"parking_right\"       0.82      1.00      0.90         9\n",
      "                    \"bump_info\"       1.00      0.76      0.87        17\n",
      "                 \"end_priority\"       1.00      1.00      1.00        11\n",
      "\n",
      "                      micro avg       0.91      0.91      0.91      2415\n",
      "                      macro avg       0.72      0.72      0.70      2415\n",
      "                   weighted avg       0.95      0.91      0.91      2415\n",
      "\n"
     ]
    }
   ],
   "source": [
    "# evaluate the network\n",
    "label_names = open(\"dict.csv\").read().strip().split(\"\\n\")[0:]\n",
    "label_names = [l.split(\",\")[1] for l in label_names]\n",
    "\n",
    "print(\"[INFO] evaluating network...\")\n",
    "predictions = model.predict(X_test_new) \n",
    "print(classification_report(y_test_new_tc.argmax(axis=1),\n",
    "\tpredictions.argmax(axis=1), target_names=label_names, labels=range(nbr_class-1)))\n"
   ]
  },
  {
   "attachments": {},
   "cell_type": "markdown",
   "metadata": {},
   "source": [
    "A partir d'un ensemble de feature X_predict :\n",
    "\n",
    "pred = model.predict_classes(X_predict)\n",
    "print(accuracy_score(y_predict, pred))"
   ]
  }
 ],
 "metadata": {
  "kernelspec": {
   "display_name": "Python 3",
   "language": "python",
   "name": "python3"
  },
  "language_info": {
   "codemirror_mode": {
    "name": "ipython",
    "version": 3
   },
   "file_extension": ".py",
   "mimetype": "text/x-python",
   "name": "python",
   "nbconvert_exporter": "python",
   "pygments_lexer": "ipython3",
   "version": "3.9.5"
  },
  "orig_nbformat": 4,
  "vscode": {
   "interpreter": {
    "hash": "a97f6c31564e57c7c64f25e8ae59cee8aeedd3b4a0f74673bd6e1bc80b9eaff3"
   }
  }
 },
 "nbformat": 4,
 "nbformat_minor": 2
}
