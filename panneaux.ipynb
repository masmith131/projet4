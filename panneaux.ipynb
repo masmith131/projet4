{
 "cells": [
  {
   "attachments": {},
   "cell_type": "markdown",
   "metadata": {},
   "source": [
    "<font size=6  color= 'blue' > <b>[LEPL1507] - PROJET P4</b> <br>\n",
    "<br><br>\n",
    "Airson Alexis<br>\n",
    "Beniffou Ibrahim <br>\n",
    "Henneaux Lucas <br>\n",
    "Lemaire Antoine <br>\n",
    "Smith Marielle <br>\n",
    "Canon Théo<br>\n",
    "<div style=\"text-align: right\"> </div>\n",
    "\n",
    "<br><br>\n",
    "</font>\n"
   ]
  },
  {
   "cell_type": "code",
   "execution_count": null,
   "metadata": {},
   "outputs": [],
   "source": [
    "import numpy as np\n",
    "from keras.preprocessing.image import ImageDataGenerator\n",
    "import matplotlib.pyplot as plt\n",
    "from keras.utils import to_categorical \n",
    "from keras.models import Sequential \n",
    "from keras.layers import Conv2D, MaxPool2D, Dense, Flatten, Dropout\n",
    "from tensorflow.keras.callbacks import EarlyStopping\n",
    "from sklearn.metrics import accuracy_score"
   ]
  },
  {
   "cell_type": "code",
   "execution_count": null,
   "metadata": {},
   "outputs": [],
   "source": [
    "#preprocessing of ppm dataset \n",
    "path_training = 'BelgiumTSC_Training\\Training'\n",
    "path_testing = 'BelgiumTSC_Testing\\Testing'\n",
    "nbr_class = 62\n",
    "batch_size_train = 4575\n",
    "batch_size_test = 2520\n",
    "\n",
    "train_datagen = ImageDataGenerator( rescale =1./255, zoom_range = 0.2, horizontal_flip = True)\n",
    "training_set = train_datagen.flow_from_directory(path_training,target_size = (30, 30),\n",
    "batch_size = batch_size_train,class_mode = 'binary', color_mode='rgb')\n",
    "\n",
    "test_datagen = ImageDataGenerator(rescale = 1./255)\n",
    "test_set = test_datagen.flow_from_directory(path_testing,\n",
    "target_size = (30, 30),batch_size = batch_size_test, class_mode = 'binary')\n"
   ]
  },
  {
   "attachments": {},
   "cell_type": "markdown",
   "metadata": {},
   "source": [
    "training_set = ensemble de 143 tuples\n",
    "Chaque tuple représente 32 images (sauf le dernier, 31 images)\n",
    "\n",
    "tuple[0] = features = tableau (32, 30, 30, 3)\n",
    "tuple[1] = label = tableau (32)\n",
    "\n",
    "plt.imshow(training_set[i][0][j]) affiche l'image n°j du paquet d'image n°i "
   ]
  },
  {
   "cell_type": "code",
   "execution_count": null,
   "metadata": {},
   "outputs": [],
   "source": [
    "'''\n",
    "On met toutes les données du Training Set dans un numpy array\n",
    "'''\n",
    "\n",
    "X_train , y_train = training_set.next()\n",
    "X_test , y_test = test_set.next()\n",
    "\n",
    "print(X_train.shape)\n",
    "print(y_train.shape)\n",
    "print(X_test.shape)\n",
    "print(y_test.shape)"
   ]
  },
  {
   "cell_type": "code",
   "execution_count": null,
   "metadata": {},
   "outputs": [],
   "source": [
    "y_train = to_categorical(y_train, nbr_class)\n",
    "y_test = to_categorical(y_test, nbr_class)\n",
    "\n",
    "print(y_train.shape)\n",
    "print(y_test.shape)"
   ]
  },
  {
   "cell_type": "code",
   "execution_count": null,
   "metadata": {},
   "outputs": [],
   "source": [
    "'''\n",
    "On construit le modèle de prédiction sur base de la méthode CNN\n",
    "'''\n",
    "\n",
    "model = Sequential()\n",
    "model.add(Conv2D(filters=32, kernel_size=(5,5), activation='relu', input_shape=X_train.shape[1:]))\n",
    "model.add(Conv2D(filters=32, kernel_size=(5,5), activation='relu'))\n",
    "model.add(MaxPool2D(pool_size=(2, 2)))\n",
    "model.add(Dropout(rate=0.25))\n",
    "model.add(Conv2D(filters=64, kernel_size=(3, 3), activation='relu'))\n",
    "model.add(Conv2D(filters=64, kernel_size=(3, 3), activation='relu'))\n",
    "model.add(MaxPool2D(pool_size=(2, 2)))\n",
    "model.add(Dropout(rate=0.25))\n",
    "model.add(Flatten())\n",
    "model.add(Dense(256, activation='relu'))\n",
    "model.add(Dropout(rate=0.5))\n",
    "model.add(Dense(nbr_class, activation='softmax'))\n",
    "#Compilation of the model\n",
    "model.compile(loss='categorical_crossentropy', optimizer='adam', metrics=['accuracy'])"
   ]
  },
  {
   "cell_type": "code",
   "execution_count": null,
   "metadata": {},
   "outputs": [],
   "source": [
    "model.summary()"
   ]
  },
  {
   "cell_type": "code",
   "execution_count": null,
   "metadata": {},
   "outputs": [],
   "source": [
    "'''\n",
    "On entraîne le modèle de prédiction\n",
    "'''\n",
    "\n",
    "eps = 15\n",
    "mycallbacks = [EarlyStopping(monitor='val_loss', patience=5)]\n",
    "anc = model.fit(X_train, y_train, validation_data=(X_test, y_test), epochs=eps, callbacks=mycallbacks)"
   ]
  },
  {
   "cell_type": "code",
   "execution_count": null,
   "metadata": {},
   "outputs": [],
   "source": [
    "'''\n",
    "On plot les résultats de performances\n",
    "'''\n",
    "\n",
    "plt.figure(0)\n",
    "plt.plot(anc.history['accuracy'], label='training accuracy')\n",
    "plt.plot(anc.history['val_accuracy'], label='test accuracy')\n",
    "plt.title('Accuracy')\n",
    "plt.xlabel('epochs')\n",
    "plt.ylabel('accuracy')\n",
    "plt.legend()\n",
    "plt.show()\n",
    "plt.figure(1)\n",
    "plt.plot(anc.history['loss'], label='training loss')\n",
    "plt.plot(anc.history['val_loss'], label='test loss')\n",
    "plt.title('Loss')\n",
    "plt.xlabel('epochs')\n",
    "plt.ylabel('loss')\n",
    "plt.legend()\n",
    "plt.show()"
   ]
  },
  {
   "attachments": {},
   "cell_type": "markdown",
   "metadata": {},
   "source": [
    "A partir d'un ensemble de feature X_predict :\n",
    "\n",
    "pred = model.predict_classes(X_predict)\n",
    "print(accuracy_score(y_predict, pred))"
   ]
  },
  {
   "attachments": {},
   "cell_type": "markdown",
   "metadata": {},
   "source": [
    "class RandomBlueTint(keras_cv.layers.BaseImageAugmentationLayer):\n",
    "    def augment_image(self, image, transformation=None):\n",
    "        # image is of shape (height, width, channels)\n",
    "        [*others, blue] = tf.unstack(image, axis=-1)\n",
    "        blue = tf.clip_by_value(blue + 100, 0.0, 255.0)\n",
    "        return tf.stack([*others, blue], axis=-1)\n",
    "\n",
    "\n",
    "layer = RandomBlueTint()\n",
    "augmented = layer(elephants)   #ici le elephant c'était juste l'exemple d'internet \n",
    "imshow(augmented.numpy())"
   ]
  }
 ],
 "metadata": {
  "kernelspec": {
   "display_name": "Python 3",
   "language": "python",
   "name": "python3"
  },
  "language_info": {
   "codemirror_mode": {
    "name": "ipython",
    "version": 3
   },
   "file_extension": ".py",
   "mimetype": "text/x-python",
   "name": "python",
   "nbconvert_exporter": "python",
   "pygments_lexer": "ipython3",
   "version": "3.9.7"
  },
  "orig_nbformat": 4,
  "vscode": {
   "interpreter": {
    "hash": "1a7894608ab89e0fa5e7f3054d382d15f72b8150e13c1deeee8c546b63809c86"
   }
  }
 },
 "nbformat": 4,
 "nbformat_minor": 2
}
