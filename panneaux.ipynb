{
 "cells": [
  {
   "attachments": {},
   "cell_type": "markdown",
   "metadata": {},
   "source": [
    "<font size=6  color= 'blue' > <b>[LEPL1507] - PROJET P4</b> <br>\n",
    "<br><br>\n",
    "Airson Alexis<br>\n",
    "Beniffou Ibrahim <br>\n",
    "Henneaux Lucas <br>\n",
    "Lemaire Antoine <br>\n",
    "Smith Marielle <br>\n",
    "Canon Théo<br>\n",
    "<div style=\"text-align: right\"> </div>\n",
    "\n",
    "<br><br>\n",
    "</font>\n"
   ]
  },
  {
   "cell_type": "code",
   "execution_count": 64,
   "metadata": {},
   "outputs": [],
   "source": [
    "import numpy as np\n",
    "from keras.preprocessing.image import ImageDataGenerator\n",
    "import matplotlib.pyplot as plt\n",
    "from keras.utils import to_categorical \n",
    "from keras.models import Sequential \n",
    "from keras.layers import Conv2D, MaxPool2D, Dense, Flatten, Dropout\n",
    "from tensorflow.keras.callbacks import EarlyStopping\n",
    "from sklearn.metrics import accuracy_score\n",
    "import os\n",
    "import tensorflow as tf\n",
    "#import tensorflow_datasets as tfds\n",
    "\n",
    "from tensorflow.keras import layers\n",
    "import random\n",
    "from sklearn.metrics import classification_report"
   ]
  },
  {
   "cell_type": "code",
   "execution_count": 65,
   "metadata": {},
   "outputs": [
    {
     "name": "stdout",
     "output_type": "stream",
     "text": [
      "4575\n",
      "Found 4575 images belonging to 62 classes.\n",
      "2520\n",
      "Found 2520 images belonging to 62 classes.\n"
     ]
    }
   ],
   "source": [
    "#preprocessing of ppm dataset \n",
    "path_training = 'BelgiumTSC_Training\\Training'\n",
    "path_testing = 'BelgiumTSC_Testing\\Testing'\n",
    "nbr_class = 62\n",
    "\n",
    "DIR = path_training\n",
    "counter = 0\n",
    "for root, dirs, files in os.walk(DIR):\n",
    "    for file in files:    \n",
    "        if file.endswith('.ppm') or file.endswith('.jpeg'):\n",
    "            counter += 1\n",
    "\n",
    "print(counter)\n",
    "\n",
    "batch_size_train = counter\n",
    "\n",
    "train_datagen = ImageDataGenerator( rescale =1./255, zoom_range = 0.2, horizontal_flip = True)\n",
    "training_set = train_datagen.flow_from_directory(path_training,target_size = (30, 30),\n",
    "batch_size = batch_size_train,class_mode = 'binary', color_mode='rgb')\n",
    "\n",
    "DIR = path_testing\n",
    "counter = 0\n",
    "for root, dirs, files in os.walk(DIR):\n",
    "    for file in files:    \n",
    "        if file.endswith('.ppm') or file.endswith('.jpeg'):\n",
    "            counter += 1\n",
    "\n",
    "print(counter)\n",
    "\n",
    "batch_size_test = counter\n",
    "\n",
    "test_datagen = ImageDataGenerator(rescale = 1./255)\n",
    "test_set = test_datagen.flow_from_directory(path_testing,\n",
    "target_size = (30, 30),batch_size = batch_size_test, class_mode = 'binary')\n"
   ]
  },
  {
   "attachments": {},
   "cell_type": "markdown",
   "metadata": {},
   "source": [
    "training_set = ensemble de 143 tuples\n",
    "Chaque tuple représente 32 images (sauf le dernier, 31 images)\n",
    "\n",
    "tuple[0] = features = tableau (32, 30, 30, 3)\n",
    "tuple[1] = label = tableau (32)\n",
    "\n",
    "plt.imshow(training_set[i][0][j]) affiche l'image n°j du paquet d'image n°i "
   ]
  },
  {
   "cell_type": "code",
   "execution_count": 66,
   "metadata": {},
   "outputs": [
    {
     "name": "stdout",
     "output_type": "stream",
     "text": [
      "(4575, 30, 30, 3)\n",
      "(4575,)\n",
      "(2520, 30, 30, 3)\n",
      "(2520,)\n"
     ]
    }
   ],
   "source": [
    "'''\n",
    "On met toutes les données du Training Set dans un numpy array\n",
    "'''\n",
    "\n",
    "X_train , y_train = training_set.next()\n",
    "X_test , y_test = test_set.next()\n",
    "\n",
    "print(X_train.shape)\n",
    "print(y_train.shape)\n",
    "print(X_test.shape)\n",
    "print(y_test.shape)"
   ]
  },
  {
   "cell_type": "code",
   "execution_count": 67,
   "metadata": {},
   "outputs": [
    {
     "data": {
      "text/plain": [
       "'\\n\\nAugmentation de données :\\n\\ndata_augmentation = tf.keras.Sequential(\\n    [\\n        tf.keras.layers.experimental.preprocessing.RandomFlip(\\n            \"horizontal\", input_shape=(64, 64, 3)),\\n        tf.keras.layers.experimental.preprocessing.RandomRotation(0.1),\\n        tf.keras.layers.experimental.preprocessing.RandomZoom(0.2),\\n        tf.keras.layers.experimental.preprocessing.RandomFlip(\\n            mode=\"horizontal_and_vertical\")\\n    ]\\n)\\n\\naugmented_image = data_augmentation(X_train[a:b])\\naugmented_image = data_augmentation(X_test[c:d])\\n==> Augmente les images de X_train[a] à X_train[b] non compris et X_test[c] à X_test[d] non compris\\n\\nidx = random.randint(a, b)\\nplt.figure()\\nplt.subplot(1, 2, 1)\\nplt.imshow(X_train[idx])\\n\\nplt.subplot(1, 2, 2)\\nplt.imshow(augmented_image[idx])\\n\\n'"
      ]
     },
     "execution_count": 67,
     "metadata": {},
     "output_type": "execute_result"
    }
   ],
   "source": [
    "\n",
    "'''\n",
    "Augmentation de données :\n",
    "\n",
    "data_augmentation = tf.keras.Sequential(\n",
    "    [\n",
    "        tf.keras.layers.experimental.preprocessing.RandomFlip(\n",
    "            \"horizontal\", input_shape=(64, 64, 3)),\n",
    "        tf.keras.layers.experimental.preprocessing.RandomRotation(0.1),\n",
    "        tf.keras.layers.experimental.preprocessing.RandomZoom(0.2),\n",
    "        tf.keras.layers.experimental.preprocessing.RandomFlip(\n",
    "            mode=\"horizontal_and_vertical\")\n",
    "    ]\n",
    ")\n",
    "\n",
    "augmented_image = data_augmentation(X_train[a:b])\n",
    "augmented_image = data_augmentation(X_test[c:d])\n",
    "==> Augmente les images de X_train[a] à X_train[b] non compris et X_test[c] à X_test[d] non compris\n",
    "\n",
    "idx = random.randint(a, b)\n",
    "plt.figure()\n",
    "plt.subplot(1, 2, 1)\n",
    "plt.imshow(X_train[idx])\n",
    "\n",
    "plt.subplot(1, 2, 2)\n",
    "plt.imshow(augmented_image[idx])\n",
    "\n",
    "'''"
   ]
  },
  {
   "cell_type": "code",
   "execution_count": 68,
   "metadata": {},
   "outputs": [
    {
     "name": "stdout",
     "output_type": "stream",
     "text": [
      "(4575, 62)\n",
      "(2520, 62)\n"
     ]
    }
   ],
   "source": [
    "y_train = to_categorical(y_train, nbr_class)\n",
    "y_test = to_categorical(y_test, nbr_class)\n",
    "\n",
    "print(y_train.shape)\n",
    "print(y_test.shape)"
   ]
  },
  {
   "cell_type": "code",
   "execution_count": 69,
   "metadata": {},
   "outputs": [],
   "source": [
    "#alternative way to do data augmentation\n",
    "\n",
    "aug = ImageDataGenerator(\n",
    "\trotation_range=10,\n",
    "\tzoom_range=0.15,\n",
    "\twidth_shift_range=0.1,\n",
    "\theight_shift_range=0.1,\n",
    "\tshear_range=0.15,\n",
    "\thorizontal_flip=False,\n",
    "\tvertical_flip=False,\n",
    "\tfill_mode=\"nearest\")\n"
   ]
  },
  {
   "cell_type": "code",
   "execution_count": 70,
   "metadata": {},
   "outputs": [],
   "source": [
    "'''\n",
    "On construit le modèle de prédiction sur base de la méthode CNN\n",
    "'''\n",
    "\n",
    "model = Sequential()\n",
    "model.add(Conv2D(filters=32, kernel_size=(5,5), activation='relu', input_shape=X_train.shape[1:]))\n",
    "model.add(Conv2D(filters=32, kernel_size=(5,5), activation='relu'))\n",
    "model.add(MaxPool2D(pool_size=(2, 2)))\n",
    "model.add(Dropout(rate=0.25))\n",
    "model.add(Conv2D(filters=64, kernel_size=(3, 3), activation='relu'))\n",
    "model.add(Conv2D(filters=64, kernel_size=(3, 3), activation='relu'))\n",
    "model.add(MaxPool2D(pool_size=(2, 2)))\n",
    "model.add(Dropout(rate=0.25))\n",
    "model.add(Flatten())\n",
    "model.add(Dense(256, activation='relu'))\n",
    "model.add(Dropout(rate=0.5))\n",
    "model.add(Dense(nbr_class, activation='softmax'))\n",
    "#Compilation of the model\n",
    "model.compile(loss='categorical_crossentropy', optimizer='adam', metrics=['accuracy'])"
   ]
  },
  {
   "cell_type": "code",
   "execution_count": 71,
   "metadata": {},
   "outputs": [
    {
     "name": "stdout",
     "output_type": "stream",
     "text": [
      "Model: \"sequential_14\"\n",
      "_________________________________________________________________\n",
      " Layer (type)                Output Shape              Param #   \n",
      "=================================================================\n",
      " conv2d_24 (Conv2D)          (None, 26, 26, 32)        2432      \n",
      "                                                                 \n",
      " conv2d_25 (Conv2D)          (None, 22, 22, 32)        25632     \n",
      "                                                                 \n",
      " max_pooling2d_12 (MaxPoolin  (None, 11, 11, 32)       0         \n",
      " g2D)                                                            \n",
      "                                                                 \n",
      " dropout_18 (Dropout)        (None, 11, 11, 32)        0         \n",
      "                                                                 \n",
      " conv2d_26 (Conv2D)          (None, 9, 9, 64)          18496     \n",
      "                                                                 \n",
      " conv2d_27 (Conv2D)          (None, 7, 7, 64)          36928     \n",
      "                                                                 \n",
      " max_pooling2d_13 (MaxPoolin  (None, 3, 3, 64)         0         \n",
      " g2D)                                                            \n",
      "                                                                 \n",
      " dropout_19 (Dropout)        (None, 3, 3, 64)          0         \n",
      "                                                                 \n",
      " flatten_6 (Flatten)         (None, 576)               0         \n",
      "                                                                 \n",
      " dense_12 (Dense)            (None, 256)               147712    \n",
      "                                                                 \n",
      " dropout_20 (Dropout)        (None, 256)               0         \n",
      "                                                                 \n",
      " dense_13 (Dense)            (None, 62)                15934     \n",
      "                                                                 \n",
      "=================================================================\n",
      "Total params: 247,134\n",
      "Trainable params: 247,134\n",
      "Non-trainable params: 0\n",
      "_________________________________________________________________\n"
     ]
    }
   ],
   "source": [
    "model.summary()"
   ]
  },
  {
   "cell_type": "code",
   "execution_count": 72,
   "metadata": {},
   "outputs": [
    {
     "name": "stdout",
     "output_type": "stream",
     "text": [
      "Epoch 1/15\n",
      "143/143 [==============================] - 10s 61ms/step - loss: 3.2104 - accuracy: 0.2223 - val_loss: 2.4999 - val_accuracy: 0.3996\n",
      "Epoch 2/15\n",
      "143/143 [==============================] - 10s 69ms/step - loss: 2.2907 - accuracy: 0.3972 - val_loss: 1.6115 - val_accuracy: 0.5556\n",
      "Epoch 3/15\n",
      "143/143 [==============================] - 10s 71ms/step - loss: 1.7636 - accuracy: 0.5060 - val_loss: 1.3172 - val_accuracy: 0.6722\n",
      "Epoch 4/15\n",
      "143/143 [==============================] - 15s 107ms/step - loss: 1.4960 - accuracy: 0.5716 - val_loss: 0.8818 - val_accuracy: 0.7591\n",
      "Epoch 5/15\n",
      "143/143 [==============================] - 22s 152ms/step - loss: 1.2889 - accuracy: 0.6240 - val_loss: 0.8711 - val_accuracy: 0.7556\n",
      "Epoch 6/15\n",
      "143/143 [==============================] - 22s 153ms/step - loss: 1.1254 - accuracy: 0.6680 - val_loss: 0.6290 - val_accuracy: 0.8369\n",
      "Epoch 7/15\n",
      "143/143 [==============================] - 23s 162ms/step - loss: 1.0324 - accuracy: 0.6933 - val_loss: 0.5107 - val_accuracy: 0.8615\n",
      "Epoch 8/15\n",
      "143/143 [==============================] - 24s 168ms/step - loss: 0.9200 - accuracy: 0.7287 - val_loss: 0.5256 - val_accuracy: 0.8226\n",
      "Epoch 9/15\n",
      "143/143 [==============================] - 19s 133ms/step - loss: 0.8836 - accuracy: 0.7403 - val_loss: 0.4425 - val_accuracy: 0.8734\n",
      "Epoch 10/15\n",
      "143/143 [==============================] - 10s 70ms/step - loss: 0.8042 - accuracy: 0.7550 - val_loss: 0.5069 - val_accuracy: 0.8429\n",
      "Epoch 11/15\n",
      "143/143 [==============================] - 11s 75ms/step - loss: 0.7611 - accuracy: 0.7655 - val_loss: 0.4106 - val_accuracy: 0.8794\n",
      "Epoch 12/15\n",
      "143/143 [==============================] - 11s 74ms/step - loss: 0.7311 - accuracy: 0.7801 - val_loss: 0.3531 - val_accuracy: 0.8976\n",
      "Epoch 13/15\n",
      "143/143 [==============================] - 10s 72ms/step - loss: 0.6362 - accuracy: 0.8037 - val_loss: 0.4919 - val_accuracy: 0.8397\n",
      "Epoch 14/15\n",
      "143/143 [==============================] - 19s 132ms/step - loss: 0.6344 - accuracy: 0.8077 - val_loss: 0.2601 - val_accuracy: 0.9262\n",
      "Epoch 15/15\n",
      "143/143 [==============================] - 23s 162ms/step - loss: 0.6129 - accuracy: 0.8127 - val_loss: 0.2501 - val_accuracy: 0.9274\n"
     ]
    }
   ],
   "source": [
    "'''\n",
    "On entraîne le modèle de prédiction\n",
    "'''\n",
    "\n",
    "eps = 15\n",
    "mycallbacks = [EarlyStopping(monitor='val_loss', patience=5)]\n",
    "anc = model.fit(aug.flow(X_train, y_train), validation_data=(X_test, y_test), epochs=eps, callbacks=mycallbacks)\n",
    "#added aug.flow to (X_train, y_train) to do data augmentation\n"
   ]
  },
  {
   "cell_type": "code",
   "execution_count": 73,
   "metadata": {},
   "outputs": [
    {
     "data": {
      "image/png": "[encoded data removed]",
      "text/plain": [
       "<Figure size 432x288 with 1 Axes>"
      ]
     },
     "metadata": {
      "needs_background": "light"
     },
     "output_type": "display_data"
    },
    {
     "data": {
      "image/png": "[encoded data removed]",
      "text/plain": [
       "<Figure size 432x288 with 1 Axes>"
      ]
     },
     "metadata": {
      "needs_background": "light"
     },
     "output_type": "display_data"
    }
   ],
   "source": [
    "'''\n",
    "On plot les résultats de performances\n",
    "'''\n",
    "\n",
    "plt.figure(0)\n",
    "plt.plot(anc.history['accuracy'], label='training accuracy')\n",
    "plt.plot(anc.history['val_accuracy'], label='test accuracy')\n",
    "plt.title('Accuracy')\n",
    "plt.xlabel('epochs')\n",
    "plt.ylabel('accuracy')\n",
    "plt.legend()\n",
    "plt.show()\n",
    "plt.figure(1)\n",
    "plt.plot(anc.history['loss'], label='training loss')\n",
    "plt.plot(anc.history['val_loss'], label='test loss')\n",
    "plt.title('Loss')\n",
    "plt.xlabel('epochs')\n",
    "plt.ylabel('loss')\n",
    "plt.legend()\n",
    "plt.show()"
   ]
  },
  {
   "cell_type": "code",
   "execution_count": 74,
   "metadata": {},
   "outputs": [
    {
     "name": "stdout",
     "output_type": "stream",
     "text": [
      "[INFO] evaluating network...\n",
      "1/1 [==============================] - 1s 1s/step\n",
      "                                 precision    recall  f1-score   support\n",
      "\n",
      "                         \"bump\"       0.00      0.00      0.00         6\n",
      "                     \"slippery\"       0.82      1.00      0.90        27\n",
      "                   \"left_curve\"       1.00      1.00      1.00         7\n",
      "                  \"right_curve\"       0.00      0.00      0.00         6\n",
      "                  \"left_curves\"       0.00      0.00      0.00        12\n",
      "                 \"right_curves\"       0.00      0.00      0.00         3\n",
      "                     \"children\"       0.00      0.00      0.00         6\n",
      "                      \"cyclist\"       0.78      0.98      0.87        90\n",
      "                      \"animals\"       0.36      0.75      0.49        12\n",
      "                    \"roadworks\"       0.00      0.00      0.00         0\n",
      "              \"traffic_signals\"       1.00      0.50      0.67        28\n",
      "            \"crossing_barriers\"       0.00      0.00      0.00         0\n",
      "                       \"danger\"       1.00      0.33      0.50         3\n",
      "                 \"road_narrows\"       0.86      0.95      0.90        39\n",
      "                 \"left_narrows\"       0.60      1.00      0.75        15\n",
      "                \"right_narrows\"       0.00      0.00      0.00         0\n",
      "                    \"crossroad\"       0.00      0.00      0.00        12\n",
      "               \"right_priority\"       0.92      0.98      0.95       183\n",
      "                     \"give_way\"       0.98      0.89      0.93       122\n",
      "            \"give_way_oncoming\"       1.00      1.00      1.00       163\n",
      "                         \"stop\"       1.00      1.00      1.00         3\n",
      "                     \"no_entry\"       1.00      0.98      0.99        45\n",
      "                   \"no_cyclist\"       1.00      1.00      1.00        61\n",
      "                 \"weight_limit\"       0.50      0.07      0.12        15\n",
      "                     \"no_truck\"       0.75      0.92      0.83        13\n",
      "                  \"width_limit\"       1.00      1.00      1.00         3\n",
      "                 \"height_limit\"       0.00      0.00      0.00         0\n",
      "                  \"no_vehicles\"       1.00      0.44      0.62         9\n",
      "                      \"no_left\"       0.74      0.98      0.84        51\n",
      "                     \"no_right\"       0.89      0.86      0.87        28\n",
      "                \"no_overtaking\"       0.90      1.00      0.95        37\n",
      "                  \"speed_limit\"       1.00      1.00      1.00        86\n",
      "    \"shared_pedestrian_cyclist\"       1.00      1.00      1.00       422\n",
      "                  \"go_straight\"       0.00      0.00      0.00         0\n",
      "                 \"go_direction\"       0.82      1.00      0.90         9\n",
      "            \"straight_or_right\"       0.99      0.97      0.98       154\n",
      "                   \"roundabout\"       0.00      0.00      0.00         0\n",
      "                   \"cycle_path\"       1.00      0.74      0.85        31\n",
      "\"segregated_pedestrian_cyclist\"       0.97      0.97      0.97       213\n",
      "                   \"no_parking\"       0.97      0.92      0.94        99\n",
      "                  \"no_stopping\"       0.94      0.94      0.94        48\n",
      "              \"no_parking_1_15\"       1.00      0.73      0.84        11\n",
      "             \"no_parking_16_31\"       0.60      1.00      0.75         9\n",
      "            \"priority_oncoming\"       0.00      0.00      0.00         6\n",
      "                      \"parking\"       1.00      1.00      1.00         3\n",
      "             \"parking_disabled\"       0.89      0.93      0.91        84\n",
      "                 \"parking_cars\"       0.40      0.33      0.36         6\n",
      "               \"parking_trucks\"       0.76      1.00      0.86        31\n",
      "                  \"parking_bus\"       0.00      0.00      0.00         0\n",
      "             \"parking_sidewalk\"       0.00      0.00      0.00         3\n",
      "       \"entering_living_street\"       0.00      0.00      0.00         0\n",
      "        \"leaving_living_street\"       1.00      1.00      1.00         3\n",
      "                      \"one_way\"       0.00      0.00      0.00         0\n",
      "                     \"dead_end\"       1.00      1.00      1.00        24\n",
      "                \"end_roadworks\"       1.00      1.00      1.00        48\n",
      "          \"pedestrian_crossing\"       1.00      0.80      0.89        15\n",
      "             \"cyclist_crossing\"       0.64      0.97      0.77        33\n",
      "                \"parking_right\"       0.96      0.63      0.76        41\n",
      "                    \"bump_info\"       0.90      1.00      0.95         9\n",
      "                 \"end_priority\"       1.00      1.00      1.00        17\n",
      "                     \"priority\"       1.00      0.91      0.95        11\n",
      "\n",
      "                      micro avg       0.92      0.92      0.92      2415\n",
      "                      macro avg       0.64      0.63      0.62      2415\n",
      "                   weighted avg       0.92      0.92      0.91      2415\n",
      "\n"
     ]
    },
    {
     "name": "stderr",
     "output_type": "stream",
     "text": [
      "c:\\Users\\marie\\AppData\\Local\\Programs\\Python\\Python310\\lib\\site-packages\\sklearn\\metrics\\_classification.py:1344: UndefinedMetricWarning: Precision and F-score are ill-defined and being set to 0.0 in labels with no predicted samples. Use `zero_division` parameter to control this behavior.\n",
      "  _warn_prf(average, modifier, msg_start, len(result))\n",
      "c:\\Users\\marie\\AppData\\Local\\Programs\\Python\\Python310\\lib\\site-packages\\sklearn\\metrics\\_classification.py:1344: UndefinedMetricWarning: Recall and F-score are ill-defined and being set to 0.0 in labels with no true samples. Use `zero_division` parameter to control this behavior.\n",
      "  _warn_prf(average, modifier, msg_start, len(result))\n",
      "c:\\Users\\marie\\AppData\\Local\\Programs\\Python\\Python310\\lib\\site-packages\\sklearn\\metrics\\_classification.py:1344: UndefinedMetricWarning: Precision and F-score are ill-defined and being set to 0.0 in labels with no predicted samples. Use `zero_division` parameter to control this behavior.\n",
      "  _warn_prf(average, modifier, msg_start, len(result))\n",
      "c:\\Users\\marie\\AppData\\Local\\Programs\\Python\\Python310\\lib\\site-packages\\sklearn\\metrics\\_classification.py:1344: UndefinedMetricWarning: Recall and F-score are ill-defined and being set to 0.0 in labels with no true samples. Use `zero_division` parameter to control this behavior.\n",
      "  _warn_prf(average, modifier, msg_start, len(result))\n",
      "c:\\Users\\marie\\AppData\\Local\\Programs\\Python\\Python310\\lib\\site-packages\\sklearn\\metrics\\_classification.py:1344: UndefinedMetricWarning: Precision and F-score are ill-defined and being set to 0.0 in labels with no predicted samples. Use `zero_division` parameter to control this behavior.\n",
      "  _warn_prf(average, modifier, msg_start, len(result))\n",
      "c:\\Users\\marie\\AppData\\Local\\Programs\\Python\\Python310\\lib\\site-packages\\sklearn\\metrics\\_classification.py:1344: UndefinedMetricWarning: Recall and F-score are ill-defined and being set to 0.0 in labels with no true samples. Use `zero_division` parameter to control this behavior.\n",
      "  _warn_prf(average, modifier, msg_start, len(result))\n"
     ]
    }
   ],
   "source": [
    "# evaluate the network\n",
    "label_names = open(\"dict.csv\").read().strip().split(\"\\n\")[1:]\n",
    "label_names = [l.split(\",\")[1] for l in label_names]\n",
    "\n",
    "print(\"[INFO] evaluating network...\")\n",
    "predictions = model.predict(X_test, batch_size= batch_size_test)\n",
    "print(classification_report(y_test.argmax(axis=1),\n",
    "\tpredictions.argmax(axis=1), target_names=label_names, labels=range(61)))\n"
   ]
  },
  {
   "attachments": {},
   "cell_type": "markdown",
   "metadata": {},
   "source": [
    "A partir d'un ensemble de feature X_predict :\n",
    "\n",
    "pred = model.predict_classes(X_predict)\n",
    "print(accuracy_score(y_predict, pred))"
   ]
  }
 ],
 "metadata": {
  "kernelspec": {
   "display_name": "base",
   "language": "python",
   "name": "python3"
  },
  "language_info": {
   "codemirror_mode": {
    "name": "ipython",
    "version": 3
   },
   "file_extension": ".py",
   "mimetype": "text/x-python",
   "name": "python",
   "nbconvert_exporter": "python",
   "pygments_lexer": "ipython3",
   "version": "3.9.13"
  },
  "orig_nbformat": 4,
  "vscode": {
   "interpreter": {
    "hash": "42ec03521300b30796ccdc35cacb9255b016bd541d16bcb18ce2f2fe41981b52"
   }
  }
 },
 "nbformat": 4,
 "nbformat_minor": 2
}
