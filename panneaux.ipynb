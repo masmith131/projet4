{
 "cells": [
  {
   "attachments": {},
   "cell_type": "markdown",
   "metadata": {},
   "source": [
    "<font size=6  color= 'blue' > <b>[LEPL1507] - PROJET P4</b> <br>\n",
    "<br><br>\n",
    "Airson Alexis<br>\n",
    "Beniffou Ibrahim <br>\n",
    "Henneaux Lucas <br>\n",
    "Lemaire Antoine <br>\n",
    "Smith Marielle <br>\n",
    "Canon Théo<br>\n",
    "<div style=\"text-align: right\"> </div>\n",
    "\n",
    "<br><br>\n",
    "</font>\n"
   ]
  },
  {
   "cell_type": "code",
   "execution_count": 1,
   "metadata": {},
   "outputs": [],
   "source": [
    "import numpy as np\n",
    "from keras.preprocessing.image import ImageDataGenerator\n",
    "import matplotlib.pyplot as plt\n",
    "from keras.utils import to_categorical \n",
    "from keras.models import Sequential \n",
    "from keras.layers import Conv2D, MaxPool2D, Dense, Flatten, Dropout\n",
    "from tensorflow.keras.callbacks import EarlyStopping\n",
    "from sklearn.metrics import accuracy_score"
   ]
  },
  {
   "cell_type": "code",
   "execution_count": 2,
   "metadata": {},
   "outputs": [
    {
     "name": "stdout",
     "output_type": "stream",
     "text": [
      "Found 4575 images belonging to 62 classes.\n",
      "Found 2520 images belonging to 62 classes.\n"
     ]
    }
   ],
   "source": [
    "#preprocessing of ppm dataset \n",
    "path_training = 'BelgiumTSC_Training\\Training'\n",
    "path_testing = 'BelgiumTSC_Testing\\Testing'\n",
    "nbr_class = 62\n",
    "batch_size = 32\n",
    "\n",
    "train_datagen = ImageDataGenerator( rescale =1./255, zoom_range = 0.2, horizontal_flip = True)\n",
    "training_set = train_datagen.flow_from_directory(path_training,target_size = (30, 30),\n",
    "batch_size = 32,class_mode = 'binary', color_mode='rgb')\n",
    "\n",
    "test_datagen = ImageDataGenerator(rescale = 1./255)\n",
    "test_set = test_datagen.flow_from_directory(path_testing,\n",
    "target_size = (30, 30),batch_size = 32, class_mode = 'binary')"
   ]
  },
  {
   "attachments": {},
   "cell_type": "markdown",
   "metadata": {},
   "source": [
    "training_set = ensemble de 143 tuples\n",
    "Chaque tuple représente 32 images (sauf le dernier, 31 images)\n",
    "\n",
    "tuple[0] = features = tableau (32, 30, 30, 3)\n",
    "tuple[1] = label = tableau (32)\n",
    "\n",
    "plt.imshow(training_set[i][0][j]) affiche l'image n°j du paquet d'image n°i "
   ]
  },
  {
   "cell_type": "code",
   "execution_count": 3,
   "metadata": {},
   "outputs": [
    {
     "name": "stdout",
     "output_type": "stream",
     "text": [
      "(4575, 30, 30, 3)\n",
      "(4575,)\n"
     ]
    }
   ],
   "source": [
    "'''\n",
    "On met toutes les données du Training Set dans un numpy array\n",
    "'''\n",
    "\n",
    "X_train = []\n",
    "y_train = []\n",
    "\n",
    "for i in range(len(training_set)):\n",
    "    for j in range(len(training_set[i][0])) :\n",
    "        X_train.append(training_set[i][0][j])\n",
    "        y_train.append(training_set[i][1][j])\n",
    "\n",
    "X_train = np.array(X_train)\n",
    "y_train = np.array(y_train)\n",
    "\n",
    "print(X_train.shape)\n",
    "print(y_train.shape)"
   ]
  },
  {
   "cell_type": "code",
   "execution_count": 4,
   "metadata": {},
   "outputs": [
    {
     "name": "stdout",
     "output_type": "stream",
     "text": [
      "(2520, 30, 30, 3)\n",
      "(2520,)\n"
     ]
    }
   ],
   "source": [
    "'''\n",
    "On met toutes les données du Test Set dans un numpy array\n",
    "'''\n",
    "\n",
    "X_test = []\n",
    "y_test = []\n",
    "\n",
    "for i in range(len(test_set)):\n",
    "    for j in range(len(test_set[i][0])) :\n",
    "        X_test.append(test_set[i][0][j])\n",
    "        y_test.append(test_set[i][1][j])\n",
    "\n",
    "X_test = np.array(X_test)\n",
    "y_test = np.array(y_test)\n",
    "\n",
    "print(X_test.shape)\n",
    "print(y_test.shape)"
   ]
  },
  {
   "cell_type": "code",
   "execution_count": 5,
   "metadata": {},
   "outputs": [],
   "source": [
    "y_train = to_categorical(y_train, nbr_class)\n",
    "y_test = to_categorical(y_test, nbr_class)"
   ]
  },
  {
   "cell_type": "code",
   "execution_count": 6,
   "metadata": {},
   "outputs": [],
   "source": [
    "'''\n",
    "On construit le modèle de prédiction\n",
    "'''\n",
    "\n",
    "model = Sequential()\n",
    "model.add(Conv2D(filters=32, kernel_size=(5,5), activation='relu', input_shape=X_train.shape[1:]))\n",
    "model.add(Conv2D(filters=32, kernel_size=(5,5), activation='relu'))\n",
    "model.add(MaxPool2D(pool_size=(2, 2)))\n",
    "model.add(Dropout(rate=0.25))\n",
    "model.add(Conv2D(filters=64, kernel_size=(3, 3), activation='relu'))\n",
    "model.add(Conv2D(filters=64, kernel_size=(3, 3), activation='relu'))\n",
    "model.add(MaxPool2D(pool_size=(2, 2)))\n",
    "model.add(Dropout(rate=0.25))\n",
    "model.add(Flatten())\n",
    "model.add(Dense(256, activation='relu'))\n",
    "model.add(Dropout(rate=0.5))\n",
    "model.add(Dense(nbr_class, activation='softmax'))\n",
    "#Compilation of the model\n",
    "model.compile(loss='categorical_crossentropy', optimizer='adam', metrics=['accuracy'])"
   ]
  },
  {
   "cell_type": "code",
   "execution_count": 7,
   "metadata": {},
   "outputs": [
    {
     "name": "stdout",
     "output_type": "stream",
     "text": [
      "Model: \"sequential\"\n",
      "_________________________________________________________________\n",
      " Layer (type)                Output Shape              Param #   \n",
      "=================================================================\n",
      " conv2d (Conv2D)             (None, 26, 26, 32)        2432      \n",
      "                                                                 \n",
      " conv2d_1 (Conv2D)           (None, 22, 22, 32)        25632     \n",
      "                                                                 \n",
      " max_pooling2d (MaxPooling2D  (None, 11, 11, 32)       0         \n",
      " )                                                               \n",
      "                                                                 \n",
      " dropout (Dropout)           (None, 11, 11, 32)        0         \n",
      "                                                                 \n",
      " conv2d_2 (Conv2D)           (None, 9, 9, 64)          18496     \n",
      "                                                                 \n",
      " conv2d_3 (Conv2D)           (None, 7, 7, 64)          36928     \n",
      "                                                                 \n",
      " max_pooling2d_1 (MaxPooling  (None, 3, 3, 64)         0         \n",
      " 2D)                                                             \n",
      "                                                                 \n",
      " dropout_1 (Dropout)         (None, 3, 3, 64)          0         \n",
      "                                                                 \n",
      " flatten (Flatten)           (None, 576)               0         \n",
      "                                                                 \n",
      " dense (Dense)               (None, 256)               147712    \n",
      "                                                                 \n",
      " dropout_2 (Dropout)         (None, 256)               0         \n",
      "                                                                 \n",
      " dense_1 (Dense)             (None, 62)                15934     \n",
      "                                                                 \n",
      "=================================================================\n",
      "Total params: 247,134\n",
      "Trainable params: 247,134\n",
      "Non-trainable params: 0\n",
      "_________________________________________________________________\n"
     ]
    }
   ],
   "source": [
    "model.summary()"
   ]
  },
  {
   "cell_type": "code",
   "execution_count": 8,
   "metadata": {},
   "outputs": [
    {
     "name": "stdout",
     "output_type": "stream",
     "text": [
      "Epoch 1/15\n",
      "143/143 [==============================] - 13s 82ms/step - loss: 3.1762 - accuracy: 0.2387 - val_loss: 1.9326 - val_accuracy: 0.5226\n",
      "Epoch 2/15\n",
      "143/143 [==============================] - 12s 83ms/step - loss: 1.5867 - accuracy: 0.5952 - val_loss: 0.9202 - val_accuracy: 0.7508\n",
      "Epoch 3/15\n",
      "143/143 [==============================] - 12s 85ms/step - loss: 1.0541 - accuracy: 0.7134 - val_loss: 0.5829 - val_accuracy: 0.8448\n",
      "Epoch 4/15\n",
      "143/143 [==============================] - 12s 87ms/step - loss: 0.7626 - accuracy: 0.7871 - val_loss: 0.4906 - val_accuracy: 0.8706\n",
      "Epoch 5/15\n",
      "143/143 [==============================] - 13s 87ms/step - loss: 0.6218 - accuracy: 0.8177 - val_loss: 0.4039 - val_accuracy: 0.8706\n",
      "Epoch 6/15\n",
      "143/143 [==============================] - 12s 86ms/step - loss: 0.4962 - accuracy: 0.8518 - val_loss: 0.2757 - val_accuracy: 0.9238\n",
      "Epoch 7/15\n",
      "143/143 [==============================] - 12s 86ms/step - loss: 0.4295 - accuracy: 0.8697 - val_loss: 0.2781 - val_accuracy: 0.9278\n",
      "Epoch 8/15\n",
      "143/143 [==============================] - 12s 85ms/step - loss: 0.3653 - accuracy: 0.8887 - val_loss: 0.2652 - val_accuracy: 0.9321\n",
      "Epoch 9/15\n",
      "143/143 [==============================] - 12s 86ms/step - loss: 0.3222 - accuracy: 0.9023 - val_loss: 0.2748 - val_accuracy: 0.9365\n",
      "Epoch 10/15\n",
      "143/143 [==============================] - 13s 88ms/step - loss: 0.3004 - accuracy: 0.9062 - val_loss: 0.2805 - val_accuracy: 0.9262\n",
      "Epoch 11/15\n",
      "143/143 [==============================] - 12s 87ms/step - loss: 0.2828 - accuracy: 0.9095 - val_loss: 0.2105 - val_accuracy: 0.9433\n",
      "Epoch 12/15\n",
      "143/143 [==============================] - 13s 88ms/step - loss: 0.2645 - accuracy: 0.9193 - val_loss: 0.2403 - val_accuracy: 0.9321\n",
      "Epoch 13/15\n",
      "143/143 [==============================] - 12s 86ms/step - loss: 0.2323 - accuracy: 0.9270 - val_loss: 0.2215 - val_accuracy: 0.9421\n",
      "Epoch 14/15\n",
      "143/143 [==============================] - 12s 87ms/step - loss: 0.2049 - accuracy: 0.9364 - val_loss: 0.1933 - val_accuracy: 0.9556\n",
      "Epoch 15/15\n",
      "143/143 [==============================] - 13s 87ms/step - loss: 0.2001 - accuracy: 0.9421 - val_loss: 0.2217 - val_accuracy: 0.9476\n"
     ]
    }
   ],
   "source": [
    "'''\n",
    "On entraîne le modèle de prédiction\n",
    "'''\n",
    "\n",
    "eps = 15\n",
    "mycallbacks = [EarlyStopping(monitor='val_loss', patience=5)]\n",
    "anc = model.fit(X_train, y_train, validation_data=(X_test, y_test), epochs=eps, callbacks=mycallbacks)"
   ]
  },
  {
   "cell_type": "code",
   "execution_count": 9,
   "metadata": {},
   "outputs": [
    {
     "data": {
      "image/png": "[encoded data removed]",
      "text/plain": [
       "<Figure size 432x288 with 1 Axes>"
      ]
     },
     "metadata": {
      "needs_background": "light"
     },
     "output_type": "display_data"
    },
    {
     "data": {
      "image/png": "[encoded data removed]",
      "text/plain": [
       "<Figure size 432x288 with 1 Axes>"
      ]
     },
     "metadata": {
      "needs_background": "light"
     },
     "output_type": "display_data"
    }
   ],
   "source": [
    "'''\n",
    "On plot les résultats de performances\n",
    "'''\n",
    "\n",
    "plt.figure(0)\n",
    "plt.plot(anc.history['accuracy'], label='training accuracy')\n",
    "plt.plot(anc.history['val_accuracy'], label='test accuracy')\n",
    "plt.title('Accuracy')\n",
    "plt.xlabel('epochs')\n",
    "plt.ylabel('accuracy')\n",
    "plt.legend()\n",
    "plt.show()\n",
    "plt.figure(1)\n",
    "plt.plot(anc.history['loss'], label='training loss')\n",
    "plt.plot(anc.history['val_loss'], label='test loss')\n",
    "plt.title('Loss')\n",
    "plt.xlabel('epochs')\n",
    "plt.ylabel('loss')\n",
    "plt.legend()\n",
    "plt.show()"
   ]
  },
  {
   "attachments": {},
   "cell_type": "markdown",
   "metadata": {},
   "source": [
    "A partir d'un ensemble de feature X_predict :\n",
    "\n",
    "pred = model.predict_classes(X_predict)\n",
    "print(accuracy_score(y_predict, pred))"
   ]
  }
 ],
 "metadata": {
  "kernelspec": {
   "display_name": "Python 3",
   "language": "python",
   "name": "python3"
  },
  "language_info": {
   "codemirror_mode": {
    "name": "ipython",
    "version": 3
   },
   "file_extension": ".py",
   "mimetype": "text/x-python",
   "name": "python",
   "nbconvert_exporter": "python",
   "pygments_lexer": "ipython3",
   "version": "3.9.5"
  },
  "orig_nbformat": 4,
  "vscode": {
   "interpreter": {
    "hash": "a97f6c31564e57c7c64f25e8ae59cee8aeedd3b4a0f74673bd6e1bc80b9eaff3"
   }
  }
 },
 "nbformat": 4,
 "nbformat_minor": 2
}
