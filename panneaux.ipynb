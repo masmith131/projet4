{
 "cells": [
  {
   "attachments": {},
   "cell_type": "markdown",
   "metadata": {},
   "source": [
    "<font size=6  color= 'blue' > <b>[LEPL1507] - PROJET P4</b> <br>\n",
    "<br><br>\n",
    "Airson Alexis<br>\n",
    "Beniffou Ibrahim <br>\n",
    "Henneaux Lucas <br>\n",
    "Lemaire Antoine <br>\n",
    "Smith Marielle <br>\n",
    "Canon Théo<br>\n",
    "<div style=\"text-align: right\"> </div>\n",
    "\n",
    "<br><br>\n",
    "</font>\n"
   ]
  },
  {
   "cell_type": "code",
   "execution_count": 1,
   "metadata": {},
   "outputs": [],
   "source": [
    "import numpy as np\n",
    "from keras.preprocessing.image import ImageDataGenerator\n",
    "import matplotlib.pyplot as plt\n",
    "from keras.utils import to_categorical \n",
    "from keras.models import Sequential \n",
    "from keras.layers import Conv2D, MaxPool2D, Dense, Flatten, Dropout\n",
    "from tensorflow.keras.callbacks import EarlyStopping\n",
    "from sklearn.metrics import accuracy_score\n",
    "import os\n",
    "import tensorflow as tf\n",
    "import tensorflow_datasets as tfds\n",
    "\n",
    "from tensorflow.keras import layers\n",
    "import random"
   ]
  },
  {
   "cell_type": "code",
   "execution_count": 2,
   "metadata": {},
   "outputs": [
    {
     "name": "stdout",
     "output_type": "stream",
     "text": [
      "4575\n",
      "Found 4575 images belonging to 62 classes.\n",
      "2520\n",
      "Found 2520 images belonging to 62 classes.\n"
     ]
    }
   ],
   "source": [
    "#preprocessing of ppm dataset \n",
    "path_training = 'BelgiumTSC_Training\\Training'\n",
    "path_testing = 'BelgiumTSC_Testing\\Testing'\n",
    "nbr_class = 62\n",
    "\n",
    "DIR = path_training\n",
    "counter = 0\n",
    "for root, dirs, files in os.walk(DIR):\n",
    "    for file in files:    \n",
    "        if file.endswith('.ppm') or file.endswith('.jpeg'):\n",
    "            counter += 1\n",
    "\n",
    "print(counter)\n",
    "\n",
    "batch_size_train = counter\n",
    "\n",
    "train_datagen = ImageDataGenerator( rescale =1./255, zoom_range = 0.2, horizontal_flip = True)\n",
    "training_set = train_datagen.flow_from_directory(path_training,target_size = (30, 30),\n",
    "batch_size = batch_size_train,class_mode = 'binary', color_mode='rgb')\n",
    "\n",
    "DIR = path_testing\n",
    "counter = 0\n",
    "for root, dirs, files in os.walk(DIR):\n",
    "    for file in files:    \n",
    "        if file.endswith('.ppm') or file.endswith('.jpeg'):\n",
    "            counter += 1\n",
    "\n",
    "print(counter)\n",
    "\n",
    "batch_size_test = counter\n",
    "\n",
    "test_datagen = ImageDataGenerator(rescale = 1./255)\n",
    "test_set = test_datagen.flow_from_directory(path_testing,\n",
    "target_size = (30, 30),batch_size = batch_size_test, class_mode = 'binary')\n"
   ]
  },
  {
   "attachments": {},
   "cell_type": "markdown",
   "metadata": {},
   "source": [
    "training_set = ensemble de 143 tuples\n",
    "Chaque tuple représente 32 images (sauf le dernier, 31 images)\n",
    "\n",
    "tuple[0] = features = tableau (32, 30, 30, 3)\n",
    "tuple[1] = label = tableau (32)\n",
    "\n",
    "plt.imshow(training_set[i][0][j]) affiche l'image n°j du paquet d'image n°i "
   ]
  },
  {
   "cell_type": "code",
   "execution_count": 3,
   "metadata": {},
   "outputs": [
    {
     "name": "stdout",
     "output_type": "stream",
     "text": [
      "(4575, 30, 30, 3)\n",
      "(4575,)\n",
      "(2520, 30, 30, 3)\n",
      "(2520,)\n"
     ]
    }
   ],
   "source": [
    "'''\n",
    "On met toutes les données du Training Set dans un numpy array\n",
    "'''\n",
    "\n",
    "X_train , y_train = training_set.next()\n",
    "X_test , y_test = test_set.next()\n",
    "\n",
    "print(X_train.shape)\n",
    "print(y_train.shape)\n",
    "print(X_test.shape)\n",
    "print(y_test.shape)"
   ]
  },
  {
   "cell_type": "code",
   "execution_count": null,
   "metadata": {},
   "outputs": [],
   "source": [
    "'''\n",
    "\n",
    "Augmentation de données :\n",
    "\n",
    "data_augmentation = tf.keras.Sequential(\n",
    "    [\n",
    "        tf.keras.layers.experimental.preprocessing.RandomFlip(\n",
    "            \"horizontal\", input_shape=(64, 64, 3)),\n",
    "        tf.keras.layers.experimental.preprocessing.RandomRotation(0.1),\n",
    "        tf.keras.layers.experimental.preprocessing.RandomZoom(0.2),\n",
    "        tf.keras.layers.experimental.preprocessing.RandomFlip(\n",
    "            mode=\"horizontal_and_vertical\")\n",
    "    ]\n",
    ")\n",
    "\n",
    "augmented_image = data_augmentation(X_train[a:b])\n",
    "augmented_image = data_augmentation(X_test[c:d])\n",
    "==> Augmente les images de X_train[a] à X_train[b] non compris et X_test[c] à X_test[d] non compris\n",
    "\n",
    "idx = random.randint(a, b)\n",
    "plt.figure()\n",
    "plt.subplot(1, 2, 1)\n",
    "plt.imshow(X_train[idx])\n",
    "\n",
    "plt.subplot(1, 2, 2)\n",
    "plt.imshow(augmented_image[idx])\n",
    "\n",
    "'''"
   ]
  },
  {
   "cell_type": "code",
   "execution_count": 4,
   "metadata": {},
   "outputs": [
    {
     "name": "stdout",
     "output_type": "stream",
     "text": [
      "(4575, 62)\n",
      "(2520, 62)\n"
     ]
    }
   ],
   "source": [
    "y_train = to_categorical(y_train, nbr_class)\n",
    "y_test = to_categorical(y_test, nbr_class)\n",
    "\n",
    "print(y_train.shape)\n",
    "print(y_test.shape)"
   ]
  },
  {
   "cell_type": "code",
   "execution_count": 5,
   "metadata": {},
   "outputs": [],
   "source": [
    "'''\n",
    "On construit le modèle de prédiction sur base de la méthode CNN\n",
    "'''\n",
    "\n",
    "model = Sequential()\n",
    "model.add(Conv2D(filters=32, kernel_size=(5,5), activation='relu', input_shape=X_train.shape[1:]))\n",
    "model.add(Conv2D(filters=32, kernel_size=(5,5), activation='relu'))\n",
    "model.add(MaxPool2D(pool_size=(2, 2)))\n",
    "model.add(Dropout(rate=0.25))\n",
    "model.add(Conv2D(filters=64, kernel_size=(3, 3), activation='relu'))\n",
    "model.add(Conv2D(filters=64, kernel_size=(3, 3), activation='relu'))\n",
    "model.add(MaxPool2D(pool_size=(2, 2)))\n",
    "model.add(Dropout(rate=0.25))\n",
    "model.add(Flatten())\n",
    "model.add(Dense(256, activation='relu'))\n",
    "model.add(Dropout(rate=0.5))\n",
    "model.add(Dense(nbr_class, activation='softmax'))\n",
    "#Compilation of the model\n",
    "model.compile(loss='categorical_crossentropy', optimizer='adam', metrics=['accuracy'])"
   ]
  },
  {
   "cell_type": "code",
   "execution_count": 6,
   "metadata": {},
   "outputs": [
    {
     "name": "stdout",
     "output_type": "stream",
     "text": [
      "Model: \"sequential\"\n",
      "_________________________________________________________________\n",
      " Layer (type)                Output Shape              Param #   \n",
      "=================================================================\n",
      " conv2d (Conv2D)             (None, 26, 26, 32)        2432      \n",
      "                                                                 \n",
      " conv2d_1 (Conv2D)           (None, 22, 22, 32)        25632     \n",
      "                                                                 \n",
      " max_pooling2d (MaxPooling2D  (None, 11, 11, 32)       0         \n",
      " )                                                               \n",
      "                                                                 \n",
      " dropout (Dropout)           (None, 11, 11, 32)        0         \n",
      "                                                                 \n",
      " conv2d_2 (Conv2D)           (None, 9, 9, 64)          18496     \n",
      "                                                                 \n",
      " conv2d_3 (Conv2D)           (None, 7, 7, 64)          36928     \n",
      "                                                                 \n",
      " max_pooling2d_1 (MaxPooling  (None, 3, 3, 64)         0         \n",
      " 2D)                                                             \n",
      "                                                                 \n",
      " dropout_1 (Dropout)         (None, 3, 3, 64)          0         \n",
      "                                                                 \n",
      " flatten (Flatten)           (None, 576)               0         \n",
      "                                                                 \n",
      " dense (Dense)               (None, 256)               147712    \n",
      "                                                                 \n",
      " dropout_2 (Dropout)         (None, 256)               0         \n",
      "                                                                 \n",
      " dense_1 (Dense)             (None, 62)                15934     \n",
      "                                                                 \n",
      "=================================================================\n",
      "Total params: 247,134\n",
      "Trainable params: 247,134\n",
      "Non-trainable params: 0\n",
      "_________________________________________________________________\n"
     ]
    }
   ],
   "source": [
    "model.summary()"
   ]
  },
  {
   "cell_type": "code",
   "execution_count": 7,
   "metadata": {},
   "outputs": [
    {
     "name": "stdout",
     "output_type": "stream",
     "text": [
      "Epoch 1/15\n",
      "143/143 [==============================] - 25s 148ms/step - loss: 3.2310 - accuracy: 0.2348 - val_loss: 1.8249 - val_accuracy: 0.5496\n",
      "Epoch 2/15\n",
      "143/143 [==============================] - 19s 133ms/step - loss: 1.5489 - accuracy: 0.6120 - val_loss: 0.9917 - val_accuracy: 0.7357\n",
      "Epoch 3/15\n",
      "143/143 [==============================] - 21s 148ms/step - loss: 0.9655 - accuracy: 0.7390 - val_loss: 0.5445 - val_accuracy: 0.8714\n",
      "Epoch 4/15\n",
      "143/143 [==============================] - 25s 174ms/step - loss: 0.7351 - accuracy: 0.7919 - val_loss: 0.4080 - val_accuracy: 0.8980\n",
      "Epoch 5/15\n",
      "143/143 [==============================] - 21s 145ms/step - loss: 0.5644 - accuracy: 0.8402 - val_loss: 0.3519 - val_accuracy: 0.9028\n",
      "Epoch 6/15\n",
      "143/143 [==============================] - 20s 137ms/step - loss: 0.4787 - accuracy: 0.8570 - val_loss: 0.3459 - val_accuracy: 0.9139\n",
      "Epoch 7/15\n",
      "143/143 [==============================] - 20s 138ms/step - loss: 0.4076 - accuracy: 0.8780 - val_loss: 0.3150 - val_accuracy: 0.9187\n",
      "Epoch 8/15\n",
      "143/143 [==============================] - 20s 139ms/step - loss: 0.3775 - accuracy: 0.8872 - val_loss: 0.2983 - val_accuracy: 0.9183\n",
      "Epoch 9/15\n",
      "143/143 [==============================] - 19s 134ms/step - loss: 0.3154 - accuracy: 0.9032 - val_loss: 0.2555 - val_accuracy: 0.9385\n",
      "Epoch 10/15\n",
      "143/143 [==============================] - 19s 132ms/step - loss: 0.2738 - accuracy: 0.9167 - val_loss: 0.2456 - val_accuracy: 0.9413\n",
      "Epoch 11/15\n",
      "143/143 [==============================] - 20s 137ms/step - loss: 0.2422 - accuracy: 0.9207 - val_loss: 0.2334 - val_accuracy: 0.9397\n",
      "Epoch 12/15\n",
      "143/143 [==============================] - 20s 137ms/step - loss: 0.2211 - accuracy: 0.9309 - val_loss: 0.3385 - val_accuracy: 0.9266\n",
      "Epoch 13/15\n",
      "143/143 [==============================] - 20s 139ms/step - loss: 0.2256 - accuracy: 0.9322 - val_loss: 0.2466 - val_accuracy: 0.9405\n",
      "Epoch 14/15\n",
      "143/143 [==============================] - 20s 138ms/step - loss: 0.2100 - accuracy: 0.9336 - val_loss: 0.2381 - val_accuracy: 0.9440\n",
      "Epoch 15/15\n",
      "143/143 [==============================] - 19s 134ms/step - loss: 0.1958 - accuracy: 0.9368 - val_loss: 0.2307 - val_accuracy: 0.9452\n"
     ]
    }
   ],
   "source": [
    "'''\n",
    "On entraîne le modèle de prédiction\n",
    "'''\n",
    "\n",
    "eps = 15\n",
    "mycallbacks = [EarlyStopping(monitor='val_loss', patience=5)]\n",
    "anc = model.fit(X_train, y_train, validation_data=(X_test, y_test), epochs=eps, callbacks=mycallbacks)"
   ]
  },
  {
   "cell_type": "code",
   "execution_count": 8,
   "metadata": {},
   "outputs": [
    {
     "data": {
      "image/png": "[encoded data removed]",
      "text/plain": [
       "<Figure size 640x480 with 1 Axes>"
      ]
     },
     "metadata": {},
     "output_type": "display_data"
    },
    {
     "data": {
      "image/png": "[encoded data removed]",
      "text/plain": [
       "<Figure size 640x480 with 1 Axes>"
      ]
     },
     "metadata": {},
     "output_type": "display_data"
    }
   ],
   "source": [
    "'''\n",
    "On plot les résultats de performances\n",
    "'''\n",
    "\n",
    "plt.figure(0)\n",
    "plt.plot(anc.history['accuracy'], label='training accuracy')\n",
    "plt.plot(anc.history['val_accuracy'], label='test accuracy')\n",
    "plt.title('Accuracy')\n",
    "plt.xlabel('epochs')\n",
    "plt.ylabel('accuracy')\n",
    "plt.legend()\n",
    "plt.show()\n",
    "plt.figure(1)\n",
    "plt.plot(anc.history['loss'], label='training loss')\n",
    "plt.plot(anc.history['val_loss'], label='test loss')\n",
    "plt.title('Loss')\n",
    "plt.xlabel('epochs')\n",
    "plt.ylabel('loss')\n",
    "plt.legend()\n",
    "plt.show()"
   ]
  },
  {
   "attachments": {},
   "cell_type": "markdown",
   "metadata": {},
   "source": [
    "A partir d'un ensemble de feature X_predict :\n",
    "\n",
    "pred = model.predict_classes(X_predict)\n",
    "print(accuracy_score(y_predict, pred))"
   ]
  },
  {
   "attachments": {},
   "cell_type": "markdown",
   "metadata": {},
   "source": [
    "class RandomBlueTint(keras_cv.layers.BaseImageAugmentationLayer):\n",
    "    def augment_image(self, image, transformation=None):\n",
    "        # image is of shape (height, width, channels)\n",
    "        [*others, blue] = tf.unstack(image, axis=-1)\n",
    "        blue = tf.clip_by_value(blue + 100, 0.0, 255.0)\n",
    "        return tf.stack([*others, blue], axis=-1)\n",
    "\n",
    "\n",
    "layer = RandomBlueTint()\n",
    "augmented = layer(elephants)   #ici le elephant c'était juste l'exemple d'internet \n",
    "imshow(augmented.numpy())"
   ]
  }
 ],
 "metadata": {
  "kernelspec": {
   "display_name": "base",
   "language": "python",
   "name": "python3"
  },
  "language_info": {
   "codemirror_mode": {
    "name": "ipython",
    "version": 3
   },
   "file_extension": ".py",
   "mimetype": "text/x-python",
   "name": "python",
   "nbconvert_exporter": "python",
   "pygments_lexer": "ipython3",
   "version": "3.9.13"
  },
  "orig_nbformat": 4,
  "vscode": {
   "interpreter": {
    "hash": "42ec03521300b30796ccdc35cacb9255b016bd541d16bcb18ce2f2fe41981b52"
   }
  }
 },
 "nbformat": 4,
 "nbformat_minor": 2
}
