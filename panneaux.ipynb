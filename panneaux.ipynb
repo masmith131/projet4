{
 "cells": [
  {
   "attachments": {},
   "cell_type": "markdown",
   "metadata": {},
   "source": [
    "<font size=6  color= 'blue' > <b>[LEPL1507] - PROJET P4</b> <br>\n",
    "<br><br>\n",
    "Airson Alexis<br>\n",
    "Beniffou Ibrahim <br>\n",
    "Henneaux Lucas <br>\n",
    "Lemaire Antoine <br>\n",
    "Smith Marielle <br>\n",
    "Canon Théo<br>\n",
    "<div style=\"text-align: right\"> </div>\n",
    "\n",
    "<br><br>\n",
    "</font>\n"
   ]
  },
  {
   "cell_type": "code",
   "execution_count": 38,
   "metadata": {},
   "outputs": [],
   "source": [
    "import numpy as np\n",
    "from keras.preprocessing.image import ImageDataGenerator\n",
    "import matplotlib.pyplot as plt\n",
    "from keras.utils import to_categorical \n",
    "from keras.models import Sequential \n",
    "from keras.layers import Conv2D, MaxPool2D, Dense, Flatten, Dropout\n",
    "from tensorflow.keras.callbacks import EarlyStopping\n",
    "from sklearn.metrics import accuracy_score"
   ]
  },
  {
   "cell_type": "code",
   "execution_count": 44,
   "metadata": {},
   "outputs": [
    {
     "name": "stdout",
     "output_type": "stream",
     "text": [
      "Found 4575 images belonging to 62 classes.\n",
      "Found 2520 images belonging to 62 classes.\n"
     ]
    }
   ],
   "source": [
    "#preprocessing of ppm dataset \n",
    "path_training = 'BelgiumTSC_Training\\Training'\n",
    "path_testing = 'BelgiumTSC_Testing\\Testing'\n",
    "nbr_class = 62\n",
    "batch_size_train = 4575\n",
    "batch_size_test = 2520\n",
    "\n",
    "train_datagen = ImageDataGenerator( rescale =1./255, zoom_range = 0.2, horizontal_flip = True)\n",
    "training_set = train_datagen.flow_from_directory(path_training,target_size = (30, 30),\n",
    "batch_size = batch_size_train,class_mode = 'binary', color_mode='rgb')\n",
    "\n",
    "test_datagen = ImageDataGenerator(rescale = 1./255)\n",
    "test_set = test_datagen.flow_from_directory(path_testing,\n",
    "target_size = (30, 30),batch_size = batch_size_test, class_mode = 'binary')\n"
   ]
  },
  {
   "attachments": {},
   "cell_type": "markdown",
   "metadata": {},
   "source": [
    "training_set = ensemble de 143 tuples\n",
    "Chaque tuple représente 32 images (sauf le dernier, 31 images)\n",
    "\n",
    "tuple[0] = features = tableau (32, 30, 30, 3)\n",
    "tuple[1] = label = tableau (32)\n",
    "\n",
    "plt.imshow(training_set[i][0][j]) affiche l'image n°j du paquet d'image n°i "
   ]
  },
  {
   "cell_type": "code",
   "execution_count": 45,
   "metadata": {},
   "outputs": [
    {
     "name": "stdout",
     "output_type": "stream",
     "text": [
      "(4575, 30, 30, 3)\n",
      "(4575,)\n",
      "(2520, 30, 30, 3)\n",
      "(2520,)\n"
     ]
    }
   ],
   "source": [
    "'''\n",
    "On met toutes les données du Training Set dans un numpy array\n",
    "'''\n",
    "\n",
    "X_train , y_train = training_set.next()\n",
    "X_test , y_test = test_set.next()\n",
    "\n",
    "print(X_train.shape)\n",
    "print(y_train.shape)\n",
    "print(X_test.shape)\n",
    "print(y_test.shape)"
   ]
  },
  {
   "cell_type": "code",
   "execution_count": 46,
   "metadata": {},
   "outputs": [
    {
     "name": "stdout",
     "output_type": "stream",
     "text": [
      "(4575, 62)\n",
      "(2520, 62)\n"
     ]
    }
   ],
   "source": [
    "y_train = to_categorical(y_train, nbr_class)\n",
    "y_test = to_categorical(y_test, nbr_class)\n",
    "\n",
    "print(y_train.shape)\n",
    "print(y_test.shape)"
   ]
  },
  {
   "cell_type": "code",
   "execution_count": 47,
   "metadata": {},
   "outputs": [],
   "source": [
    "'''\n",
    "On construit le modèle de prédiction sur base de la méthode CNN\n",
    "'''\n",
    "\n",
    "model = Sequential()\n",
    "model.add(Conv2D(filters=32, kernel_size=(5,5), activation='relu', input_shape=X_train.shape[1:]))\n",
    "model.add(Conv2D(filters=32, kernel_size=(5,5), activation='relu'))\n",
    "model.add(MaxPool2D(pool_size=(2, 2)))\n",
    "model.add(Dropout(rate=0.25))\n",
    "model.add(Conv2D(filters=64, kernel_size=(3, 3), activation='relu'))\n",
    "model.add(Conv2D(filters=64, kernel_size=(3, 3), activation='relu'))\n",
    "model.add(MaxPool2D(pool_size=(2, 2)))\n",
    "model.add(Dropout(rate=0.25))\n",
    "model.add(Flatten())\n",
    "model.add(Dense(256, activation='relu'))\n",
    "model.add(Dropout(rate=0.5))\n",
    "model.add(Dense(nbr_class, activation='softmax'))\n",
    "#Compilation of the model\n",
    "model.compile(loss='categorical_crossentropy', optimizer='adam', metrics=['accuracy'])"
   ]
  },
  {
   "cell_type": "code",
   "execution_count": null,
   "metadata": {},
   "outputs": [],
   "source": [
    "model.summary()"
   ]
  },
  {
   "cell_type": "code",
   "execution_count": 48,
   "metadata": {},
   "outputs": [
    {
     "name": "stdout",
     "output_type": "stream",
     "text": [
      "Epoch 1/15\n",
      "143/143 [==============================] - 15s 95ms/step - loss: 3.1516 - accuracy: 0.2411 - val_loss: 2.0879 - val_accuracy: 0.5028\n",
      "Epoch 2/15\n",
      "143/143 [==============================] - 13s 93ms/step - loss: 1.5840 - accuracy: 0.6031 - val_loss: 0.9894 - val_accuracy: 0.7405\n",
      "Epoch 3/15\n",
      "143/143 [==============================] - 16s 113ms/step - loss: 1.0488 - accuracy: 0.7110 - val_loss: 0.5440 - val_accuracy: 0.8544\n",
      "Epoch 4/15\n",
      "143/143 [==============================] - 15s 102ms/step - loss: 0.8039 - accuracy: 0.7777 - val_loss: 0.4677 - val_accuracy: 0.8706\n",
      "Epoch 5/15\n",
      "143/143 [==============================] - 15s 104ms/step - loss: 0.5977 - accuracy: 0.8267 - val_loss: 0.3518 - val_accuracy: 0.9056\n",
      "Epoch 6/15\n",
      "143/143 [==============================] - 14s 101ms/step - loss: 0.5090 - accuracy: 0.8472 - val_loss: 0.2793 - val_accuracy: 0.9317\n",
      "Epoch 7/15\n",
      "143/143 [==============================] - 14s 100ms/step - loss: 0.4516 - accuracy: 0.8621 - val_loss: 0.2417 - val_accuracy: 0.9381\n",
      "Epoch 8/15\n",
      "143/143 [==============================] - 16s 110ms/step - loss: 0.3748 - accuracy: 0.8885 - val_loss: 0.2328 - val_accuracy: 0.9317\n",
      "Epoch 9/15\n",
      "143/143 [==============================] - 13s 93ms/step - loss: 0.3413 - accuracy: 0.8933 - val_loss: 0.2179 - val_accuracy: 0.9500\n",
      "Epoch 10/15\n",
      "143/143 [==============================] - 14s 99ms/step - loss: 0.3289 - accuracy: 0.9014 - val_loss: 0.2013 - val_accuracy: 0.9488\n",
      "Epoch 11/15\n",
      "143/143 [==============================] - 14s 99ms/step - loss: 0.2807 - accuracy: 0.9099 - val_loss: 0.1960 - val_accuracy: 0.9480\n",
      "Epoch 12/15\n",
      "143/143 [==============================] - 17s 117ms/step - loss: 0.2491 - accuracy: 0.9228 - val_loss: 0.2103 - val_accuracy: 0.9456\n",
      "Epoch 13/15\n",
      "143/143 [==============================] - 14s 101ms/step - loss: 0.2345 - accuracy: 0.9242 - val_loss: 0.1971 - val_accuracy: 0.9560\n",
      "Epoch 14/15\n",
      "143/143 [==============================] - 15s 103ms/step - loss: 0.2132 - accuracy: 0.9311 - val_loss: 0.1890 - val_accuracy: 0.9571\n",
      "Epoch 15/15\n",
      "143/143 [==============================] - 14s 100ms/step - loss: 0.2158 - accuracy: 0.9320 - val_loss: 0.1897 - val_accuracy: 0.9504\n"
     ]
    }
   ],
   "source": [
    "'''\n",
    "On entraîne le modèle de prédiction\n",
    "'''\n",
    "\n",
    "eps = 15\n",
    "mycallbacks = [EarlyStopping(monitor='val_loss', patience=5)]\n",
    "anc = model.fit(X_train, y_train, validation_data=(X_test, y_test), epochs=eps, callbacks=mycallbacks)"
   ]
  },
  {
   "cell_type": "code",
   "execution_count": 49,
   "metadata": {},
   "outputs": [
    {
     "data": {
      "image/png": "[encoded data removed]",
      "text/plain": [
       "<Figure size 432x288 with 1 Axes>"
      ]
     },
     "metadata": {
      "needs_background": "light"
     },
     "output_type": "display_data"
    },
    {
     "data": {
      "image/png": "[encoded data removed]",
      "text/plain": [
       "<Figure size 432x288 with 1 Axes>"
      ]
     },
     "metadata": {
      "needs_background": "light"
     },
     "output_type": "display_data"
    }
   ],
   "source": [
    "'''\n",
    "On plot les résultats de performances\n",
    "'''\n",
    "\n",
    "plt.figure(0)\n",
    "plt.plot(anc.history['accuracy'], label='training accuracy')\n",
    "plt.plot(anc.history['val_accuracy'], label='test accuracy')\n",
    "plt.title('Accuracy')\n",
    "plt.xlabel('epochs')\n",
    "plt.ylabel('accuracy')\n",
    "plt.legend()\n",
    "plt.show()\n",
    "plt.figure(1)\n",
    "plt.plot(anc.history['loss'], label='training loss')\n",
    "plt.plot(anc.history['val_loss'], label='test loss')\n",
    "plt.title('Loss')\n",
    "plt.xlabel('epochs')\n",
    "plt.ylabel('loss')\n",
    "plt.legend()\n",
    "plt.show()"
   ]
  },
  {
   "attachments": {},
   "cell_type": "markdown",
   "metadata": {},
   "source": [
    "A partir d'un ensemble de feature X_predict :\n",
    "\n",
    "pred = model.predict_classes(X_predict)\n",
    "print(accuracy_score(y_predict, pred))"
   ]
  },
  {
   "attachments": {},
   "cell_type": "markdown",
   "metadata": {},
   "source": [
    "class RandomBlueTint(keras_cv.layers.BaseImageAugmentationLayer):\n",
    "    def augment_image(self, image, transformation=None):\n",
    "        # image is of shape (height, width, channels)\n",
    "        [*others, blue] = tf.unstack(image, axis=-1)\n",
    "        blue = tf.clip_by_value(blue + 100, 0.0, 255.0)\n",
    "        return tf.stack([*others, blue], axis=-1)\n",
    "\n",
    "\n",
    "layer = RandomBlueTint()\n",
    "augmented = layer(elephants)   #ici le elephant c'était juste l'exemple d'internet \n",
    "imshow(augmented.numpy())"
   ]
  }
 ],
 "metadata": {
  "kernelspec": {
   "display_name": "Python 3",
   "language": "python",
   "name": "python3"
  },
  "language_info": {
   "codemirror_mode": {
    "name": "ipython",
    "version": 3
   },
   "file_extension": ".py",
   "mimetype": "text/x-python",
   "name": "python",
   "nbconvert_exporter": "python",
   "pygments_lexer": "ipython3",
   "version": "3.9.7"
  },
  "orig_nbformat": 4,
  "vscode": {
   "interpreter": {
    "hash": "1a7894608ab89e0fa5e7f3054d382d15f72b8150e13c1deeee8c546b63809c86"
   }
  }
 },
 "nbformat": 4,
 "nbformat_minor": 2
}
