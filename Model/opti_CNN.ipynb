{
 "cells": [
  {
   "cell_type": "code",
   "execution_count": 16,
   "metadata": {},
   "outputs": [],
   "source": [
    "def conv(param, filter, p_filter, kernel, p_size) : \n",
    "\n",
    "    p = ( (kernel*kernel*p_filter) + 1 ) * filter\n",
    "    param.append(p)\n",
    "\n",
    "    size = p_size - (kernel - 1)\n",
    "    print(\"size conv : \", size, size, filter)\n",
    "\n",
    "    return size "
   ]
  },
  {
   "cell_type": "code",
   "execution_count": 17,
   "metadata": {},
   "outputs": [],
   "source": [
    "def pool(pool, size, filter) : \n",
    "\n",
    "    size = int(np.floor(size / pool))\n",
    "    print(\"size pool : \", size, size, filter)\n",
    "\n",
    "    return size"
   ]
  },
  {
   "cell_type": "code",
   "execution_count": 18,
   "metadata": {},
   "outputs": [],
   "source": [
    "def flatt(size, filter) : \n",
    "\n",
    "    size = size*size*filter\n",
    "    print(\"size flatten : \", size)\n",
    "\n",
    "    return size"
   ]
  },
  {
   "cell_type": "code",
   "execution_count": 19,
   "metadata": {},
   "outputs": [],
   "source": [
    "def dense (param, dense, size) : \n",
    "\n",
    "    p = (dense*size) + dense \n",
    "    param.append(p)\n",
    "\n",
    "    size = dense \n",
    "    print(\"size dense : \", dense)\n",
    "\n",
    "    return size \n"
   ]
  },
  {
   "cell_type": "code",
   "execution_count": 20,
   "metadata": {},
   "outputs": [
    {
     "name": "stdout",
     "output_type": "stream",
     "text": [
      "size conv :  46 46 68\n",
      "size conv :  44 44 68\n",
      "size pool :  11 11 68\n",
      "size conv :  9 9 136\n",
      "size conv :  8 8 136\n",
      "size pool :  2 2 136\n",
      "size flatten :  544\n",
      "size dense :  122\n",
      "size dense :  62\n",
      "[5168, 41684, 83368, 74120, 66490, 7626]\n",
      "Total of param :  278456\n"
     ]
    }
   ],
   "source": [
    "import numpy as np \n",
    "\n",
    "resol = 50 \n",
    "\n",
    "param = [] \n",
    "\n",
    "filter_1 = 68\n",
    "kernel_1 = 5\n",
    "\n",
    "kernel_1_2 = 3\n",
    "\n",
    "pool_1 = 4\n",
    "\n",
    "filter_2 = 136\n",
    "kernel_2 = 3\n",
    "\n",
    "kernel_2_1 = 2\n",
    "\n",
    "pool_2 = 3\n",
    "\n",
    "'''\n",
    "filter_3 = 128\n",
    "kernel_3 = 2\n",
    "\n",
    "filter_3 = 128\n",
    "kernel_3_1 = 2\n",
    "\n",
    "pool_3 = 2\n",
    "'''\n",
    "\n",
    "size = conv(param=param, filter=filter_1, p_filter=3, kernel=kernel_1, p_size=resol)\n",
    "size = conv(param=param, filter=filter_1, p_filter=filter_1, kernel=kernel_1_2, p_size=size)\n",
    "size = pool(pool= pool_1, size=size, filter=filter_1)\n",
    "\n",
    "size = conv(param=param, filter=filter_2, p_filter=filter_1, kernel=kernel_2, p_size=size)\n",
    "size = conv(param=param, filter=filter_2, p_filter=filter_2, kernel=kernel_2_1, p_size=size)\n",
    "size = pool(pool=pool_2, size=size, filter=filter_2)\n",
    "\n",
    "'''\n",
    "size = conv(param=param, filter=filter_3, p_filter=filter_2, kernel=kernel_3, p_size=size)\n",
    "size = conv(param=param, filter=filter_3, p_filter=filter_3, kernel=kernel_3_1, p_size=size)\n",
    "size = pool(pool=pool_3, size=size, filter=filter_3)\n",
    "'''\n",
    "\n",
    "size = flatt(size=size, filter=filter_2)\n",
    "size = dense(param=param, dense=122, size=size)\n",
    "size = dense(param=param, dense=62, size=size)\n",
    "\n",
    "print(param)\n",
    "print(\"Total of param : \", np.sum(param))\n"
   ]
  }
 ],
 "metadata": {
  "kernelspec": {
   "display_name": "base",
   "language": "python",
   "name": "python3"
  },
  "language_info": {
   "codemirror_mode": {
    "name": "ipython",
    "version": 3
   },
   "file_extension": ".py",
   "mimetype": "text/x-python",
   "name": "python",
   "nbconvert_exporter": "python",
   "pygments_lexer": "ipython3",
   "version": "3.9.13"
  },
  "orig_nbformat": 4
 },
 "nbformat": 4,
 "nbformat_minor": 2
}
